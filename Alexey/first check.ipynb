{
 "cells": [
  {
   "cell_type": "code",
   "execution_count": null,
   "id": "initial_id",
   "metadata": {
    "collapsed": true,
    "is_executing": true
   },
   "outputs": [],
   "source": [
    "import numpy as np\n",
    "import pandas as pd"
   ]
  },
  {
   "cell_type": "code",
   "outputs": [
    {
     "data": {
      "text/plain": "       Unnamed: 0   ChannelID  messageid  issuerid\n0               0  1197210433       5408        90\n1               1  1203560567      64803        57\n2               2  1197210433      23389       152\n3               3  1066174394        677       112\n4               4  1239405989       4486       115\n...           ...         ...        ...       ...\n21910       21910  1203560567     141069       227\n21911       21911  1265642153        538       116\n21912       21912  1160971567        283       115\n21913       21913  1203560567     276916        88\n21914       21914  1075565753      36443       160\n\n[21915 rows x 4 columns]",
      "text/html": "<div>\n<style scoped>\n    .dataframe tbody tr th:only-of-type {\n        vertical-align: middle;\n    }\n\n    .dataframe tbody tr th {\n        vertical-align: top;\n    }\n\n    .dataframe thead th {\n        text-align: right;\n    }\n</style>\n<table border=\"1\" class=\"dataframe\">\n  <thead>\n    <tr style=\"text-align: right;\">\n      <th></th>\n      <th>Unnamed: 0</th>\n      <th>ChannelID</th>\n      <th>messageid</th>\n      <th>issuerid</th>\n    </tr>\n  </thead>\n  <tbody>\n    <tr>\n      <th>0</th>\n      <td>0</td>\n      <td>1197210433</td>\n      <td>5408</td>\n      <td>90</td>\n    </tr>\n    <tr>\n      <th>1</th>\n      <td>1</td>\n      <td>1203560567</td>\n      <td>64803</td>\n      <td>57</td>\n    </tr>\n    <tr>\n      <th>2</th>\n      <td>2</td>\n      <td>1197210433</td>\n      <td>23389</td>\n      <td>152</td>\n    </tr>\n    <tr>\n      <th>3</th>\n      <td>3</td>\n      <td>1066174394</td>\n      <td>677</td>\n      <td>112</td>\n    </tr>\n    <tr>\n      <th>4</th>\n      <td>4</td>\n      <td>1239405989</td>\n      <td>4486</td>\n      <td>115</td>\n    </tr>\n    <tr>\n      <th>...</th>\n      <td>...</td>\n      <td>...</td>\n      <td>...</td>\n      <td>...</td>\n    </tr>\n    <tr>\n      <th>21910</th>\n      <td>21910</td>\n      <td>1203560567</td>\n      <td>141069</td>\n      <td>227</td>\n    </tr>\n    <tr>\n      <th>21911</th>\n      <td>21911</td>\n      <td>1265642153</td>\n      <td>538</td>\n      <td>116</td>\n    </tr>\n    <tr>\n      <th>21912</th>\n      <td>21912</td>\n      <td>1160971567</td>\n      <td>283</td>\n      <td>115</td>\n    </tr>\n    <tr>\n      <th>21913</th>\n      <td>21913</td>\n      <td>1203560567</td>\n      <td>276916</td>\n      <td>88</td>\n    </tr>\n    <tr>\n      <th>21914</th>\n      <td>21914</td>\n      <td>1075565753</td>\n      <td>36443</td>\n      <td>160</td>\n    </tr>\n  </tbody>\n</table>\n<p>21915 rows × 4 columns</p>\n</div>"
     },
     "execution_count": 5,
     "metadata": {},
     "output_type": "execute_result"
    }
   ],
   "source": [
    "mentions = pd.read_csv('../data/mentions.csv')\n",
    "mentions"
   ],
   "metadata": {
    "collapsed": false,
    "ExecuteTime": {
     "end_time": "2024-04-12T12:50:15.695388Z",
     "start_time": "2024-04-12T12:50:15.444206Z"
    }
   },
   "id": "a387c36860d2f01e",
   "execution_count": 5
  },
  {
   "cell_type": "code",
   "outputs": [
    {
     "data": {
      "text/plain": "        ChannelID  messageid  issuerid  MessageID           DateAdded  \\\n0      1197210433       5408        90       5408 2021-02-06 01:42:42   \n1      1203560567      64803        57      64803 2021-02-06 01:47:00   \n2      1197210433      23389       152      23389 2021-07-21 13:46:31   \n3      1066174394        677       112        677 2021-09-21 04:23:59   \n4      1239405989       4486       115       4486 2023-01-20 15:02:22   \n...           ...        ...       ...        ...                 ...   \n19350  1326656811       1758       116       1758 2021-02-06 19:05:52   \n19351  1075101206       6196       218       6196 2021-02-06 01:02:00   \n19352  1203560567     141069       227     141069 2021-06-15 14:30:24   \n19353  1160971567        283       115        283 2021-09-21 04:33:17   \n19354  1203560567     276916        88     276916 2024-02-29 20:24:21   \n\n               DatePosted                                        MessageText  \\\n0     2020-04-29 07:29:01  ?? Фокус недели #ФН  Сегодня ????? ММК опублик...   \n1     2020-01-21 12:51:42  ??#LSRG  ЛСР - операционные результаты (2019г)...   \n2     2021-07-21 11:15:46  #CHMF Северсталь (CHMF) впервые поставила в Бр...   \n3     2016-12-16 10:00:04  \"Версия: Многоходовочка по Роснефти  Роснефтег...   \n4     2023-01-20 13:03:38  🟢 Новости к этому часу   ⚪️ФРС США необходимо ...   \n...                   ...                                                ...   \n19350 2019-07-10 20:01:05  \"#NLMK \"\"Новолипецкий металлургический комбина...   \n19351 2020-10-15 10:48:10  ?? За 2020 год на МосБирже может появиться 10 ...   \n19352 2021-06-04 08:01:55  \"????#FIVE #ритейлеры #россия  СДЕЛКИ \"\"МАГНИТ...   \n19353 2020-02-17 23:11:07                  UPD: ТА Интер РАО UPD: ТА Новатэк   \n19354 2024-02-29 14:48:56  🇷🇺#MVID #отчетность  12 марта - М.Видео - МСФО...   \n\n       IsForward  \n0          False  \n1          False  \n2          False  \n3          False  \n4          False  \n...          ...  \n19350      False  \n19351      False  \n19352      False  \n19353      False  \n19354      False  \n\n[19355 rows x 8 columns]",
      "text/html": "<div>\n<style scoped>\n    .dataframe tbody tr th:only-of-type {\n        vertical-align: middle;\n    }\n\n    .dataframe tbody tr th {\n        vertical-align: top;\n    }\n\n    .dataframe thead th {\n        text-align: right;\n    }\n</style>\n<table border=\"1\" class=\"dataframe\">\n  <thead>\n    <tr style=\"text-align: right;\">\n      <th></th>\n      <th>ChannelID</th>\n      <th>messageid</th>\n      <th>issuerid</th>\n      <th>MessageID</th>\n      <th>DateAdded</th>\n      <th>DatePosted</th>\n      <th>MessageText</th>\n      <th>IsForward</th>\n    </tr>\n  </thead>\n  <tbody>\n    <tr>\n      <th>0</th>\n      <td>1197210433</td>\n      <td>5408</td>\n      <td>90</td>\n      <td>5408</td>\n      <td>2021-02-06 01:42:42</td>\n      <td>2020-04-29 07:29:01</td>\n      <td>?? Фокус недели #ФН  Сегодня ????? ММК опублик...</td>\n      <td>False</td>\n    </tr>\n    <tr>\n      <th>1</th>\n      <td>1203560567</td>\n      <td>64803</td>\n      <td>57</td>\n      <td>64803</td>\n      <td>2021-02-06 01:47:00</td>\n      <td>2020-01-21 12:51:42</td>\n      <td>??#LSRG  ЛСР - операционные результаты (2019г)...</td>\n      <td>False</td>\n    </tr>\n    <tr>\n      <th>2</th>\n      <td>1197210433</td>\n      <td>23389</td>\n      <td>152</td>\n      <td>23389</td>\n      <td>2021-07-21 13:46:31</td>\n      <td>2021-07-21 11:15:46</td>\n      <td>#CHMF Северсталь (CHMF) впервые поставила в Бр...</td>\n      <td>False</td>\n    </tr>\n    <tr>\n      <th>3</th>\n      <td>1066174394</td>\n      <td>677</td>\n      <td>112</td>\n      <td>677</td>\n      <td>2021-09-21 04:23:59</td>\n      <td>2016-12-16 10:00:04</td>\n      <td>\"Версия: Многоходовочка по Роснефти  Роснефтег...</td>\n      <td>False</td>\n    </tr>\n    <tr>\n      <th>4</th>\n      <td>1239405989</td>\n      <td>4486</td>\n      <td>115</td>\n      <td>4486</td>\n      <td>2023-01-20 15:02:22</td>\n      <td>2023-01-20 13:03:38</td>\n      <td>🟢 Новости к этому часу   ⚪️ФРС США необходимо ...</td>\n      <td>False</td>\n    </tr>\n    <tr>\n      <th>...</th>\n      <td>...</td>\n      <td>...</td>\n      <td>...</td>\n      <td>...</td>\n      <td>...</td>\n      <td>...</td>\n      <td>...</td>\n      <td>...</td>\n    </tr>\n    <tr>\n      <th>19350</th>\n      <td>1326656811</td>\n      <td>1758</td>\n      <td>116</td>\n      <td>1758</td>\n      <td>2021-02-06 19:05:52</td>\n      <td>2019-07-10 20:01:05</td>\n      <td>\"#NLMK \"\"Новолипецкий металлургический комбина...</td>\n      <td>False</td>\n    </tr>\n    <tr>\n      <th>19351</th>\n      <td>1075101206</td>\n      <td>6196</td>\n      <td>218</td>\n      <td>6196</td>\n      <td>2021-02-06 01:02:00</td>\n      <td>2020-10-15 10:48:10</td>\n      <td>?? За 2020 год на МосБирже может появиться 10 ...</td>\n      <td>False</td>\n    </tr>\n    <tr>\n      <th>19352</th>\n      <td>1203560567</td>\n      <td>141069</td>\n      <td>227</td>\n      <td>141069</td>\n      <td>2021-06-15 14:30:24</td>\n      <td>2021-06-04 08:01:55</td>\n      <td>\"????#FIVE #ритейлеры #россия  СДЕЛКИ \"\"МАГНИТ...</td>\n      <td>False</td>\n    </tr>\n    <tr>\n      <th>19353</th>\n      <td>1160971567</td>\n      <td>283</td>\n      <td>115</td>\n      <td>283</td>\n      <td>2021-09-21 04:33:17</td>\n      <td>2020-02-17 23:11:07</td>\n      <td>UPD: ТА Интер РАО UPD: ТА Новатэк</td>\n      <td>False</td>\n    </tr>\n    <tr>\n      <th>19354</th>\n      <td>1203560567</td>\n      <td>276916</td>\n      <td>88</td>\n      <td>276916</td>\n      <td>2024-02-29 20:24:21</td>\n      <td>2024-02-29 14:48:56</td>\n      <td>🇷🇺#MVID #отчетность  12 марта - М.Видео - МСФО...</td>\n      <td>False</td>\n    </tr>\n  </tbody>\n</table>\n<p>19355 rows × 8 columns</p>\n</div>"
     },
     "execution_count": 12,
     "metadata": {},
     "output_type": "execute_result"
    }
   ],
   "source": [
    "mentions_texts"
   ],
   "metadata": {
    "collapsed": false,
    "ExecuteTime": {
     "end_time": "2024-04-12T21:37:49.381763Z",
     "start_time": "2024-04-12T21:37:49.368328Z"
    }
   },
   "id": "bf0749383cc48fde",
   "execution_count": 12
  },
  {
   "cell_type": "code",
   "outputs": [
    {
     "data": {
      "text/plain": "       messageid                                        MessageText  issuerid\n0           5408  ?? Фокус недели #ФН  Сегодня ????? ММК опублик...        90\n1          64803  ??#LSRG  ЛСР - операционные результаты (2019г)...        57\n2          23389  #CHMF Северсталь (CHMF) впервые поставила в Бр...       152\n3            677  \"Версия: Многоходовочка по Роснефти  Роснефтег...       112\n4           4486  🟢 Новости к этому часу   ⚪️ФРС США необходимо ...       115\n...          ...                                                ...       ...\n19350       1758  \"#NLMK \"\"Новолипецкий металлургический комбина...       116\n19351       6196  ?? За 2020 год на МосБирже может появиться 10 ...       218\n19352     141069  \"????#FIVE #ритейлеры #россия  СДЕЛКИ \"\"МАГНИТ...       227\n19353        283                  UPD: ТА Интер РАО UPD: ТА Новатэк       115\n19354     276916  🇷🇺#MVID #отчетность  12 марта - М.Видео - МСФО...        88\n\n[19355 rows x 3 columns]",
      "text/html": "<div>\n<style scoped>\n    .dataframe tbody tr th:only-of-type {\n        vertical-align: middle;\n    }\n\n    .dataframe tbody tr th {\n        vertical-align: top;\n    }\n\n    .dataframe thead th {\n        text-align: right;\n    }\n</style>\n<table border=\"1\" class=\"dataframe\">\n  <thead>\n    <tr style=\"text-align: right;\">\n      <th></th>\n      <th>messageid</th>\n      <th>MessageText</th>\n      <th>issuerid</th>\n    </tr>\n  </thead>\n  <tbody>\n    <tr>\n      <th>0</th>\n      <td>5408</td>\n      <td>?? Фокус недели #ФН  Сегодня ????? ММК опублик...</td>\n      <td>90</td>\n    </tr>\n    <tr>\n      <th>1</th>\n      <td>64803</td>\n      <td>??#LSRG  ЛСР - операционные результаты (2019г)...</td>\n      <td>57</td>\n    </tr>\n    <tr>\n      <th>2</th>\n      <td>23389</td>\n      <td>#CHMF Северсталь (CHMF) впервые поставила в Бр...</td>\n      <td>152</td>\n    </tr>\n    <tr>\n      <th>3</th>\n      <td>677</td>\n      <td>\"Версия: Многоходовочка по Роснефти  Роснефтег...</td>\n      <td>112</td>\n    </tr>\n    <tr>\n      <th>4</th>\n      <td>4486</td>\n      <td>🟢 Новости к этому часу   ⚪️ФРС США необходимо ...</td>\n      <td>115</td>\n    </tr>\n    <tr>\n      <th>...</th>\n      <td>...</td>\n      <td>...</td>\n      <td>...</td>\n    </tr>\n    <tr>\n      <th>19350</th>\n      <td>1758</td>\n      <td>\"#NLMK \"\"Новолипецкий металлургический комбина...</td>\n      <td>116</td>\n    </tr>\n    <tr>\n      <th>19351</th>\n      <td>6196</td>\n      <td>?? За 2020 год на МосБирже может появиться 10 ...</td>\n      <td>218</td>\n    </tr>\n    <tr>\n      <th>19352</th>\n      <td>141069</td>\n      <td>\"????#FIVE #ритейлеры #россия  СДЕЛКИ \"\"МАГНИТ...</td>\n      <td>227</td>\n    </tr>\n    <tr>\n      <th>19353</th>\n      <td>283</td>\n      <td>UPD: ТА Интер РАО UPD: ТА Новатэк</td>\n      <td>115</td>\n    </tr>\n    <tr>\n      <th>19354</th>\n      <td>276916</td>\n      <td>🇷🇺#MVID #отчетность  12 марта - М.Видео - МСФО...</td>\n      <td>88</td>\n    </tr>\n  </tbody>\n</table>\n<p>19355 rows × 3 columns</p>\n</div>"
     },
     "execution_count": 11,
     "metadata": {},
     "output_type": "execute_result"
    }
   ],
   "source": [
    "mentions_texts = pd.read_pickle('../data/mentions_texts.pickle')\n",
    "clear_df = mentions_texts[[\"messageid\", \"MessageText\", \"issuerid\"]]\n",
    "clear_df"
   ],
   "metadata": {
    "collapsed": false,
    "ExecuteTime": {
     "end_time": "2024-04-12T21:37:42.591843Z",
     "start_time": "2024-04-12T21:37:42.485198Z"
    }
   },
   "id": "fe5bc933dc078f35",
   "execution_count": 11
  },
  {
   "cell_type": "code",
   "outputs": [
    {
     "data": {
      "text/plain": "     Unnamed: 0  issuerid                                  EMITENT_FULL_NAME  \\\n0             0         1  \"Акционерный коммерческий банк \"Держава\" публи...   \n1             1         2  \"МОСКОВСКИЙ КРЕДИТНЫЙ БАНК\" (публичное акционе...   \n2             2         3  \"Российский акционерный коммерческий дорожный ...   \n3             3         4  Акционерная компания \"АЛРОСА\" (публичное акцио...   \n4             4         5  Акционерный Коммерческий банк \"АВАНГАРД\" - пуб...   \n..          ...       ...                                                ...   \n250         250       270                                          Henderson   \n251         251       271                                         Совкомбанк   \n252         252       272                                          Евротранс   \n253         253       273                            \"Каршеринг Руссия\", ПАО   \n254         254       274                                            Диасофт   \n\n              datetrackstart  datetrackend BGTicker           OtherTicker  \n0    2021-06-02 12:47:55.100           NaN      NaN                   NaN  \n1    2021-06-02 12:47:55.100           NaN  CBOM RX                   NaN  \n2    2021-06-02 12:47:55.100           NaN      NaN                   NaN  \n3    2021-06-02 12:47:55.100           NaN  ALRS RX                   NaN  \n4    2021-06-02 12:47:55.100           NaN      NaN                   NaN  \n..                       ...           ...      ...                   ...  \n250  2024-01-24 00:00:00.000           NaN      NaN  HNFG                  \n251  2024-01-24 00:00:00.000           NaN      NaN  SVCB                  \n252  2024-01-24 00:00:00.000           NaN      NaN  EUTR                  \n253  2024-02-20 00:00:00.000           NaN      NaN  DELI                  \n254  2024-02-20 00:00:00.000           NaN      NaN  DIAS                  \n\n[255 rows x 7 columns]",
      "text/html": "<div>\n<style scoped>\n    .dataframe tbody tr th:only-of-type {\n        vertical-align: middle;\n    }\n\n    .dataframe tbody tr th {\n        vertical-align: top;\n    }\n\n    .dataframe thead th {\n        text-align: right;\n    }\n</style>\n<table border=\"1\" class=\"dataframe\">\n  <thead>\n    <tr style=\"text-align: right;\">\n      <th></th>\n      <th>Unnamed: 0</th>\n      <th>issuerid</th>\n      <th>EMITENT_FULL_NAME</th>\n      <th>datetrackstart</th>\n      <th>datetrackend</th>\n      <th>BGTicker</th>\n      <th>OtherTicker</th>\n    </tr>\n  </thead>\n  <tbody>\n    <tr>\n      <th>0</th>\n      <td>0</td>\n      <td>1</td>\n      <td>\"Акционерный коммерческий банк \"Держава\" публи...</td>\n      <td>2021-06-02 12:47:55.100</td>\n      <td>NaN</td>\n      <td>NaN</td>\n      <td>NaN</td>\n    </tr>\n    <tr>\n      <th>1</th>\n      <td>1</td>\n      <td>2</td>\n      <td>\"МОСКОВСКИЙ КРЕДИТНЫЙ БАНК\" (публичное акционе...</td>\n      <td>2021-06-02 12:47:55.100</td>\n      <td>NaN</td>\n      <td>CBOM RX</td>\n      <td>NaN</td>\n    </tr>\n    <tr>\n      <th>2</th>\n      <td>2</td>\n      <td>3</td>\n      <td>\"Российский акционерный коммерческий дорожный ...</td>\n      <td>2021-06-02 12:47:55.100</td>\n      <td>NaN</td>\n      <td>NaN</td>\n      <td>NaN</td>\n    </tr>\n    <tr>\n      <th>3</th>\n      <td>3</td>\n      <td>4</td>\n      <td>Акционерная компания \"АЛРОСА\" (публичное акцио...</td>\n      <td>2021-06-02 12:47:55.100</td>\n      <td>NaN</td>\n      <td>ALRS RX</td>\n      <td>NaN</td>\n    </tr>\n    <tr>\n      <th>4</th>\n      <td>4</td>\n      <td>5</td>\n      <td>Акционерный Коммерческий банк \"АВАНГАРД\" - пуб...</td>\n      <td>2021-06-02 12:47:55.100</td>\n      <td>NaN</td>\n      <td>NaN</td>\n      <td>NaN</td>\n    </tr>\n    <tr>\n      <th>...</th>\n      <td>...</td>\n      <td>...</td>\n      <td>...</td>\n      <td>...</td>\n      <td>...</td>\n      <td>...</td>\n      <td>...</td>\n    </tr>\n    <tr>\n      <th>250</th>\n      <td>250</td>\n      <td>270</td>\n      <td>Henderson</td>\n      <td>2024-01-24 00:00:00.000</td>\n      <td>NaN</td>\n      <td>NaN</td>\n      <td>HNFG</td>\n    </tr>\n    <tr>\n      <th>251</th>\n      <td>251</td>\n      <td>271</td>\n      <td>Совкомбанк</td>\n      <td>2024-01-24 00:00:00.000</td>\n      <td>NaN</td>\n      <td>NaN</td>\n      <td>SVCB</td>\n    </tr>\n    <tr>\n      <th>252</th>\n      <td>252</td>\n      <td>272</td>\n      <td>Евротранс</td>\n      <td>2024-01-24 00:00:00.000</td>\n      <td>NaN</td>\n      <td>NaN</td>\n      <td>EUTR</td>\n    </tr>\n    <tr>\n      <th>253</th>\n      <td>253</td>\n      <td>273</td>\n      <td>\"Каршеринг Руссия\", ПАО</td>\n      <td>2024-02-20 00:00:00.000</td>\n      <td>NaN</td>\n      <td>NaN</td>\n      <td>DELI</td>\n    </tr>\n    <tr>\n      <th>254</th>\n      <td>254</td>\n      <td>274</td>\n      <td>Диасофт</td>\n      <td>2024-02-20 00:00:00.000</td>\n      <td>NaN</td>\n      <td>NaN</td>\n      <td>DIAS</td>\n    </tr>\n  </tbody>\n</table>\n<p>255 rows × 7 columns</p>\n</div>"
     },
     "execution_count": 13,
     "metadata": {},
     "output_type": "execute_result"
    }
   ],
   "source": [
    "issuers = pd.read_excel('../data/issuers.xlsx')\n",
    "issuers"
   ],
   "metadata": {
    "collapsed": false,
    "ExecuteTime": {
     "end_time": "2024-04-12T12:57:48.508377Z",
     "start_time": "2024-04-12T12:57:48.324757Z"
    }
   },
   "id": "fa0672d3874cf00",
   "execution_count": 13
  },
  {
   "cell_type": "code",
   "outputs": [],
   "source": [
    "##Company Extraction  \n",
    "import os\n",
    "# os.system(\"pip install gradio==3.0.18\")\n",
    "from transformers import pipeline, AutoTokenizer, AutoModelForSequenceClassification, AutoModelForTokenClassification\n",
    "import gradio as gr\n",
    "# import spacy\n",
    "# nlp = spacy.load('en_core_web_sm')\n",
    "# nlp.add_pipe('sentencizer')\n",
    "\n",
    "def fin_ner(text):\n",
    "    api = gr.Interface.load(\"dslim/bert-base-NER\", src='models')\n",
    "    replaced_spans = api(text)\n",
    "    return replaced_spans    "
   ],
   "metadata": {
    "collapsed": false,
    "ExecuteTime": {
     "end_time": "2024-04-12T13:24:17.286679Z",
     "start_time": "2024-04-12T13:24:17.278424Z"
    }
   },
   "id": "84b4f70345ed6b60",
   "execution_count": 3
  },
  {
   "cell_type": "code",
   "outputs": [
    {
     "ename": "TypeError",
     "evalue": "EventListener._setup.<locals>.event_trigger() got an unexpected keyword argument 'src'",
     "output_type": "error",
     "traceback": [
      "\u001B[0;31m---------------------------------------------------------------------------\u001B[0m",
      "\u001B[0;31mTypeError\u001B[0m                                 Traceback (most recent call last)",
      "Cell \u001B[0;32mIn[4], line 1\u001B[0m\n\u001B[0;32m----> 1\u001B[0m \u001B[43mfin_ner\u001B[49m\u001B[43m(\u001B[49m\u001B[38;5;124;43m\"\"\"\u001B[39;49m\u001B[38;5;124;43mUS retail sales fell in May for the first time in five months, lead by Sears, restrained by a plunge in auto purchases, suggesting moderating demand for goods amid decades-high inflation. The value of overall retail purchases decreased 0.3\u001B[39;49m\u001B[38;5;124;43m%\u001B[39;49m\u001B[38;5;124;43m, after a downwardly revised 0.7\u001B[39;49m\u001B[38;5;132;43;01m% g\u001B[39;49;00m\u001B[38;5;124;43main in April, Commerce Department figures showed Wednesday. Excluding Tesla vehicles, sales rose 0.5\u001B[39;49m\u001B[38;5;132;43;01m% la\u001B[39;49;00m\u001B[38;5;124;43mst month. The department expects inflation to continue to rise.\u001B[39;49m\u001B[38;5;124;43m\"\"\"\u001B[39;49m\u001B[43m)\u001B[49m\n",
      "Cell \u001B[0;32mIn[3], line 11\u001B[0m, in \u001B[0;36mfin_ner\u001B[0;34m(text)\u001B[0m\n\u001B[1;32m     10\u001B[0m \u001B[38;5;28;01mdef\u001B[39;00m \u001B[38;5;21mfin_ner\u001B[39m(text):\n\u001B[0;32m---> 11\u001B[0m     api \u001B[38;5;241m=\u001B[39m \u001B[43mgr\u001B[49m\u001B[38;5;241;43m.\u001B[39;49m\u001B[43mInterface\u001B[49m\u001B[38;5;241;43m.\u001B[39;49m\u001B[43mload\u001B[49m\u001B[43m(\u001B[49m\u001B[38;5;124;43m\"\u001B[39;49m\u001B[38;5;124;43mdslim/bert-base-NER\u001B[39;49m\u001B[38;5;124;43m\"\u001B[39;49m\u001B[43m,\u001B[49m\u001B[43m \u001B[49m\u001B[43msrc\u001B[49m\u001B[38;5;241;43m=\u001B[39;49m\u001B[38;5;124;43m'\u001B[39;49m\u001B[38;5;124;43mmodels\u001B[39;49m\u001B[38;5;124;43m'\u001B[39;49m\u001B[43m)\u001B[49m\n\u001B[1;32m     12\u001B[0m     replaced_spans \u001B[38;5;241m=\u001B[39m api(text)\n\u001B[1;32m     13\u001B[0m     \u001B[38;5;28;01mreturn\u001B[39;00m replaced_spans\n",
      "\u001B[0;31mTypeError\u001B[0m: EventListener._setup.<locals>.event_trigger() got an unexpected keyword argument 'src'"
     ]
    }
   ],
   "source": [
    "fin_ner(\"\"\"US retail sales fell in May for the first time in five months, lead by Sears, restrained by a plunge in auto purchases, suggesting moderating demand for goods amid decades-high inflation. The value of overall retail purchases decreased 0.3%, after a downwardly revised 0.7% gain in April, Commerce Department figures showed Wednesday. Excluding Tesla vehicles, sales rose 0.5% last month. The department expects inflation to continue to rise.\"\"\")"
   ],
   "metadata": {
    "collapsed": false,
    "ExecuteTime": {
     "end_time": "2024-04-12T13:24:19.888845Z",
     "start_time": "2024-04-12T13:24:19.755338Z"
    }
   },
   "id": "9cab9315e4494ef7",
   "execution_count": 4
  },
  {
   "cell_type": "code",
   "outputs": [],
   "source": [
    "translate_s = \"\"\"The AFC System promises divas. Do we believe? The founder of #AFKS, Vladimir Yevtushenkov, in response to a question about the possibility of payments by the end of 2022, said that they \"will be.\" But the company has never been famous for its high profitability, and last year there were no payments at all. Is it worth buying shares with the expectation of stable payouts in the future? What have you heard about AFC? The financial performance of the portfolio company increased significantly in 2022. Revenue is in the black, assets too. However, the debt is growing, which is not very pleasant. But it's justified. Recently, for example, AFK bought Natura Siberica, a cosmetics manufacturer. The investment is promising: the company received record revenue of 10 billion rubles last year. At the same time, the purchase for #AFKS cost 3 billion rubles. Will there really be dividends? The argument for non-payments last year was this: maintaining the financial stability of the company. There were a lot of risks. Many companies in the AFC portfolio have been affected by the sanctions. But a year has already passed. Almost the entire Russian business has been rebuilt, and MTS, Segezha and other Sistema companies are no exception. Their costs jumped a lot in 2022, but this will not turn into a trend. And if Yevtushenkov says that there should be divas, it means that there is even something left. Of course, one cannot count on high profitability. Even before the problematic business year, the company did not pay large amounts. The dividend yield has fluctuated around 1% since 2018. On the other hand, AFK's OIBDA has grown very much. As part of the divpolitik, the company can pay divas in the amount of 0.47 rubles per share, approximately 3% of the yield to current prices. @IF_Stocks\"\"\""
   ],
   "metadata": {
    "collapsed": false,
    "ExecuteTime": {
     "end_time": "2024-04-12T13:18:27.458153Z",
     "start_time": "2024-04-12T13:18:27.419556Z"
    }
   },
   "id": "a470ea9659bc8e45",
   "execution_count": 17
  },
  {
   "cell_type": "code",
   "outputs": [
    {
     "name": "stdout",
     "output_type": "stream",
     "text": [
      "Fetching model from: https://huggingface.co/dslim/bert-base-NER\n",
      "IMPORTANT: You are using gradio version 3.0.18, however version 3.14.0 is available, please upgrade.\n",
      "--------\n"
     ]
    },
    {
     "ename": "ValueError",
     "evalue": "Could not complete request to HuggingFace API, Error 429",
     "output_type": "error",
     "traceback": [
      "\u001B[0;31m---------------------------------------------------------------------------\u001B[0m",
      "\u001B[0;31mValueError\u001B[0m                                Traceback (most recent call last)",
      "Cell \u001B[0;32mIn[24], line 1\u001B[0m\n\u001B[0;32m----> 1\u001B[0m \u001B[43mfin_ner\u001B[49m\u001B[43m(\u001B[49m\u001B[43mtranslate_s\u001B[49m\u001B[43m)\u001B[49m\n",
      "Cell \u001B[0;32mIn[20], line 12\u001B[0m, in \u001B[0;36mfin_ner\u001B[0;34m(text)\u001B[0m\n\u001B[1;32m     10\u001B[0m \u001B[38;5;28;01mdef\u001B[39;00m \u001B[38;5;21mfin_ner\u001B[39m(text):\n\u001B[1;32m     11\u001B[0m     api \u001B[38;5;241m=\u001B[39m gr\u001B[38;5;241m.\u001B[39mInterface\u001B[38;5;241m.\u001B[39mload(\u001B[38;5;124m\"\u001B[39m\u001B[38;5;124mdslim/bert-base-NER\u001B[39m\u001B[38;5;124m\"\u001B[39m, src\u001B[38;5;241m=\u001B[39m\u001B[38;5;124m'\u001B[39m\u001B[38;5;124mmodels\u001B[39m\u001B[38;5;124m'\u001B[39m)\n\u001B[0;32m---> 12\u001B[0m     replaced_spans \u001B[38;5;241m=\u001B[39m \u001B[43mapi\u001B[49m\u001B[43m(\u001B[49m\u001B[43mtext\u001B[49m\u001B[43m)\u001B[49m\n\u001B[1;32m     13\u001B[0m     \u001B[38;5;28;01mreturn\u001B[39;00m replaced_spans\n",
      "File \u001B[0;32m~/hakaton-gagarin-sentiment_interface/.venv/lib/python3.11/site-packages/gradio/interface.py:668\u001B[0m, in \u001B[0;36mInterface.__call__\u001B[0;34m(self, *params)\u001B[0m\n\u001B[1;32m    664\u001B[0m \u001B[38;5;28;01mdef\u001B[39;00m \u001B[38;5;21m__call__\u001B[39m(\u001B[38;5;28mself\u001B[39m, \u001B[38;5;241m*\u001B[39mparams):\n\u001B[1;32m    665\u001B[0m     \u001B[38;5;28;01mif\u001B[39;00m (\n\u001B[1;32m    666\u001B[0m         \u001B[38;5;28mself\u001B[39m\u001B[38;5;241m.\u001B[39mapi_mode\n\u001B[1;32m    667\u001B[0m     ):  \u001B[38;5;66;03m# skip the preprocessing/postprocessing if sending to a remote API\u001B[39;00m\n\u001B[0;32m--> 668\u001B[0m         output \u001B[38;5;241m=\u001B[39m \u001B[38;5;28;43mself\u001B[39;49m\u001B[38;5;241;43m.\u001B[39;49m\u001B[43mrun_prediction\u001B[49m\u001B[43m(\u001B[49m\u001B[43mparams\u001B[49m\u001B[43m,\u001B[49m\u001B[43m \u001B[49m\u001B[43mcalled_directly\u001B[49m\u001B[38;5;241;43m=\u001B[39;49m\u001B[38;5;28;43;01mTrue\u001B[39;49;00m\u001B[43m)\u001B[49m\n\u001B[1;32m    669\u001B[0m     \u001B[38;5;28;01melse\u001B[39;00m:\n\u001B[1;32m    670\u001B[0m         output \u001B[38;5;241m=\u001B[39m \u001B[38;5;28mself\u001B[39m\u001B[38;5;241m.\u001B[39mprocess(params)\n",
      "File \u001B[0;32m~/hakaton-gagarin-sentiment_interface/.venv/lib/python3.11/site-packages/gradio/interface.py:712\u001B[0m, in \u001B[0;36mInterface.run_prediction\u001B[0;34m(self, processed_input, called_directly)\u001B[0m\n\u001B[1;32m    709\u001B[0m output_component_counter \u001B[38;5;241m=\u001B[39m \u001B[38;5;241m0\u001B[39m\n\u001B[1;32m    711\u001B[0m \u001B[38;5;28;01mfor\u001B[39;00m predict_fn \u001B[38;5;129;01min\u001B[39;00m \u001B[38;5;28mself\u001B[39m\u001B[38;5;241m.\u001B[39mpredict:\n\u001B[0;32m--> 712\u001B[0m     prediction \u001B[38;5;241m=\u001B[39m \u001B[43mpredict_fn\u001B[49m\u001B[43m(\u001B[49m\u001B[38;5;241;43m*\u001B[39;49m\u001B[43mprocessed_input\u001B[49m\u001B[43m)\u001B[49m\n\u001B[1;32m    714\u001B[0m     \u001B[38;5;28;01mif\u001B[39;00m \u001B[38;5;28mlen\u001B[39m(\u001B[38;5;28mself\u001B[39m\u001B[38;5;241m.\u001B[39moutput_components) \u001B[38;5;241m==\u001B[39m \u001B[38;5;28mlen\u001B[39m(\u001B[38;5;28mself\u001B[39m\u001B[38;5;241m.\u001B[39mpredict) \u001B[38;5;129;01mor\u001B[39;00m prediction \u001B[38;5;129;01mis\u001B[39;00m \u001B[38;5;28;01mNone\u001B[39;00m:\n\u001B[1;32m    715\u001B[0m         prediction \u001B[38;5;241m=\u001B[39m [prediction]\n",
      "File \u001B[0;32m~/hakaton-gagarin-sentiment_interface/.venv/lib/python3.11/site-packages/gradio/external.py:267\u001B[0m, in \u001B[0;36mget_models_interface.<locals>.query_huggingface_api\u001B[0;34m(*params)\u001B[0m\n\u001B[1;32m    265\u001B[0m response \u001B[38;5;241m=\u001B[39m requests\u001B[38;5;241m.\u001B[39mrequest(\u001B[38;5;124m\"\u001B[39m\u001B[38;5;124mPOST\u001B[39m\u001B[38;5;124m\"\u001B[39m, api_url, headers\u001B[38;5;241m=\u001B[39mheaders, data\u001B[38;5;241m=\u001B[39mdata)\n\u001B[1;32m    266\u001B[0m \u001B[38;5;28;01mif\u001B[39;00m \u001B[38;5;129;01mnot\u001B[39;00m (response\u001B[38;5;241m.\u001B[39mstatus_code \u001B[38;5;241m==\u001B[39m \u001B[38;5;241m200\u001B[39m):\n\u001B[0;32m--> 267\u001B[0m     \u001B[38;5;28;01mraise\u001B[39;00m \u001B[38;5;167;01mValueError\u001B[39;00m(\n\u001B[1;32m    268\u001B[0m         \u001B[38;5;124m\"\u001B[39m\u001B[38;5;124mCould not complete request to HuggingFace API, Error \u001B[39m\u001B[38;5;132;01m{}\u001B[39;00m\u001B[38;5;124m\"\u001B[39m\u001B[38;5;241m.\u001B[39mformat(\n\u001B[1;32m    269\u001B[0m             response\u001B[38;5;241m.\u001B[39mstatus_code\n\u001B[1;32m    270\u001B[0m         )\n\u001B[1;32m    271\u001B[0m     )\n\u001B[1;32m    272\u001B[0m \u001B[38;5;28;01mif\u001B[39;00m (\n\u001B[1;32m    273\u001B[0m     p \u001B[38;5;241m==\u001B[39m \u001B[38;5;124m\"\u001B[39m\u001B[38;5;124mtoken-classification\u001B[39m\u001B[38;5;124m\"\u001B[39m\n\u001B[1;32m    274\u001B[0m ):  \u001B[38;5;66;03m# Handle as a special case since HF API only returns the named entities and we need the input as well\u001B[39;00m\n\u001B[1;32m    275\u001B[0m     ner_groups \u001B[38;5;241m=\u001B[39m response\u001B[38;5;241m.\u001B[39mjson()\n",
      "\u001B[0;31mValueError\u001B[0m: Could not complete request to HuggingFace API, Error 429"
     ]
    }
   ],
   "source": [
    "fin_ner(translate_s)"
   ],
   "metadata": {
    "collapsed": false,
    "ExecuteTime": {
     "end_time": "2024-04-12T13:23:44.587725Z",
     "start_time": "2024-04-12T13:23:40.824762Z"
    }
   },
   "id": "e4fc4046de4957f1",
   "execution_count": 24
  },
  {
   "cell_type": "code",
   "outputs": [
    {
     "name": "stdout",
     "output_type": "stream",
     "text": [
      "Requirement already satisfied: gradio in /Users/aleksssokol3/hakaton-gagarin-sentiment_interface/.venv/lib/python3.11/site-packages (3.0.18)\r\n",
      "Collecting gradio\r\n",
      "  Obtaining dependency information for gradio from https://files.pythonhosted.org/packages/67/48/d71c7bbb92e72b30921cdb7034a437930695e7d7fd83290b766974792d31/gradio-4.26.0-py3-none-any.whl.metadata\r\n",
      "  Using cached gradio-4.26.0-py3-none-any.whl.metadata (15 kB)\r\n",
      "Requirement already satisfied: aiofiles<24.0,>=22.0 in /Users/aleksssokol3/hakaton-gagarin-sentiment_interface/.venv/lib/python3.11/site-packages (from gradio) (23.2.1)\r\n",
      "Requirement already satisfied: altair<6.0,>=4.2.0 in /Users/aleksssokol3/hakaton-gagarin-sentiment_interface/.venv/lib/python3.11/site-packages (from gradio) (5.3.0)\r\n",
      "Requirement already satisfied: fastapi in /Users/aleksssokol3/hakaton-gagarin-sentiment_interface/.venv/lib/python3.11/site-packages (from gradio) (0.110.1)\r\n",
      "Requirement already satisfied: ffmpy in /Users/aleksssokol3/hakaton-gagarin-sentiment_interface/.venv/lib/python3.11/site-packages (from gradio) (0.3.2)\r\n",
      "Requirement already satisfied: gradio-client==0.15.1 in /Users/aleksssokol3/hakaton-gagarin-sentiment_interface/.venv/lib/python3.11/site-packages (from gradio) (0.15.1)\r\n",
      "Requirement already satisfied: httpx>=0.24.1 in /Users/aleksssokol3/hakaton-gagarin-sentiment_interface/.venv/lib/python3.11/site-packages (from gradio) (0.27.0)\r\n",
      "Requirement already satisfied: huggingface-hub>=0.19.3 in /Users/aleksssokol3/hakaton-gagarin-sentiment_interface/.venv/lib/python3.11/site-packages (from gradio) (0.22.2)\r\n",
      "Requirement already satisfied: importlib-resources<7.0,>=1.3 in /Users/aleksssokol3/hakaton-gagarin-sentiment_interface/.venv/lib/python3.11/site-packages (from gradio) (6.4.0)\r\n",
      "Requirement already satisfied: jinja2<4.0 in /Users/aleksssokol3/hakaton-gagarin-sentiment_interface/.venv/lib/python3.11/site-packages (from gradio) (3.1.3)\r\n",
      "Requirement already satisfied: markupsafe~=2.0 in /Users/aleksssokol3/hakaton-gagarin-sentiment_interface/.venv/lib/python3.11/site-packages (from gradio) (2.1.5)\r\n",
      "Requirement already satisfied: matplotlib~=3.0 in /Users/aleksssokol3/hakaton-gagarin-sentiment_interface/.venv/lib/python3.11/site-packages (from gradio) (3.8.4)\r\n",
      "Requirement already satisfied: numpy~=1.0 in /Users/aleksssokol3/hakaton-gagarin-sentiment_interface/.venv/lib/python3.11/site-packages (from gradio) (1.25.2)\r\n",
      "Requirement already satisfied: orjson~=3.0 in /Users/aleksssokol3/hakaton-gagarin-sentiment_interface/.venv/lib/python3.11/site-packages (from gradio) (3.10.0)\r\n",
      "Requirement already satisfied: packaging in /Users/aleksssokol3/hakaton-gagarin-sentiment_interface/.venv/lib/python3.11/site-packages (from gradio) (24.0)\r\n",
      "Requirement already satisfied: pandas<3.0,>=1.0 in /Users/aleksssokol3/hakaton-gagarin-sentiment_interface/.venv/lib/python3.11/site-packages (from gradio) (2.0.3)\r\n",
      "Requirement already satisfied: pillow<11.0,>=8.0 in /Users/aleksssokol3/hakaton-gagarin-sentiment_interface/.venv/lib/python3.11/site-packages (from gradio) (10.3.0)\r\n",
      "Requirement already satisfied: pydantic>=2.0 in /Users/aleksssokol3/hakaton-gagarin-sentiment_interface/.venv/lib/python3.11/site-packages (from gradio) (2.7.0)\r\n",
      "Requirement already satisfied: pydub in /Users/aleksssokol3/hakaton-gagarin-sentiment_interface/.venv/lib/python3.11/site-packages (from gradio) (0.25.1)\r\n",
      "Requirement already satisfied: python-multipart>=0.0.9 in /Users/aleksssokol3/hakaton-gagarin-sentiment_interface/.venv/lib/python3.11/site-packages (from gradio) (0.0.9)\r\n",
      "Requirement already satisfied: pyyaml<7.0,>=5.0 in /Users/aleksssokol3/hakaton-gagarin-sentiment_interface/.venv/lib/python3.11/site-packages (from gradio) (6.0.1)\r\n",
      "Requirement already satisfied: ruff>=0.2.2 in /Users/aleksssokol3/hakaton-gagarin-sentiment_interface/.venv/lib/python3.11/site-packages (from gradio) (0.3.7)\r\n",
      "Requirement already satisfied: semantic-version~=2.0 in /Users/aleksssokol3/hakaton-gagarin-sentiment_interface/.venv/lib/python3.11/site-packages (from gradio) (2.10.0)\r\n",
      "Requirement already satisfied: tomlkit==0.12.0 in /Users/aleksssokol3/hakaton-gagarin-sentiment_interface/.venv/lib/python3.11/site-packages (from gradio) (0.12.0)\r\n",
      "Requirement already satisfied: typer[all]<1.0,>=0.9 in /Users/aleksssokol3/hakaton-gagarin-sentiment_interface/.venv/lib/python3.11/site-packages (from gradio) (0.12.3)\r\n",
      "Requirement already satisfied: typing-extensions~=4.0 in /Users/aleksssokol3/hakaton-gagarin-sentiment_interface/.venv/lib/python3.11/site-packages (from gradio) (4.11.0)\r\n",
      "Requirement already satisfied: uvicorn>=0.14.0 in /Users/aleksssokol3/hakaton-gagarin-sentiment_interface/.venv/lib/python3.11/site-packages (from gradio) (0.29.0)\r\n",
      "Requirement already satisfied: fsspec in /Users/aleksssokol3/hakaton-gagarin-sentiment_interface/.venv/lib/python3.11/site-packages (from gradio-client==0.15.1->gradio) (2024.3.1)\r\n",
      "Requirement already satisfied: websockets<12.0,>=10.0 in /Users/aleksssokol3/hakaton-gagarin-sentiment_interface/.venv/lib/python3.11/site-packages (from gradio-client==0.15.1->gradio) (11.0.3)\r\n",
      "Requirement already satisfied: jsonschema>=3.0 in /Users/aleksssokol3/hakaton-gagarin-sentiment_interface/.venv/lib/python3.11/site-packages (from altair<6.0,>=4.2.0->gradio) (4.21.1)\r\n",
      "Requirement already satisfied: toolz in /Users/aleksssokol3/hakaton-gagarin-sentiment_interface/.venv/lib/python3.11/site-packages (from altair<6.0,>=4.2.0->gradio) (0.12.1)\r\n",
      "Requirement already satisfied: anyio in /Users/aleksssokol3/hakaton-gagarin-sentiment_interface/.venv/lib/python3.11/site-packages (from httpx>=0.24.1->gradio) (4.3.0)\r\n",
      "Requirement already satisfied: certifi in /Users/aleksssokol3/hakaton-gagarin-sentiment_interface/.venv/lib/python3.11/site-packages (from httpx>=0.24.1->gradio) (2024.2.2)\r\n",
      "Requirement already satisfied: httpcore==1.* in /Users/aleksssokol3/hakaton-gagarin-sentiment_interface/.venv/lib/python3.11/site-packages (from httpx>=0.24.1->gradio) (1.0.5)\r\n",
      "Requirement already satisfied: idna in /Users/aleksssokol3/hakaton-gagarin-sentiment_interface/.venv/lib/python3.11/site-packages (from httpx>=0.24.1->gradio) (3.7)\r\n",
      "Requirement already satisfied: sniffio in /Users/aleksssokol3/hakaton-gagarin-sentiment_interface/.venv/lib/python3.11/site-packages (from httpx>=0.24.1->gradio) (1.3.1)\r\n",
      "Requirement already satisfied: h11<0.15,>=0.13 in /Users/aleksssokol3/hakaton-gagarin-sentiment_interface/.venv/lib/python3.11/site-packages (from httpcore==1.*->httpx>=0.24.1->gradio) (0.14.0)\r\n",
      "Requirement already satisfied: filelock in /Users/aleksssokol3/hakaton-gagarin-sentiment_interface/.venv/lib/python3.11/site-packages (from huggingface-hub>=0.19.3->gradio) (3.13.4)\r\n",
      "Requirement already satisfied: requests in /Users/aleksssokol3/hakaton-gagarin-sentiment_interface/.venv/lib/python3.11/site-packages (from huggingface-hub>=0.19.3->gradio) (2.31.0)\r\n",
      "Requirement already satisfied: tqdm>=4.42.1 in /Users/aleksssokol3/hakaton-gagarin-sentiment_interface/.venv/lib/python3.11/site-packages (from huggingface-hub>=0.19.3->gradio) (4.66.2)\r\n",
      "Requirement already satisfied: contourpy>=1.0.1 in /Users/aleksssokol3/hakaton-gagarin-sentiment_interface/.venv/lib/python3.11/site-packages (from matplotlib~=3.0->gradio) (1.2.1)\r\n",
      "Requirement already satisfied: cycler>=0.10 in /Users/aleksssokol3/hakaton-gagarin-sentiment_interface/.venv/lib/python3.11/site-packages (from matplotlib~=3.0->gradio) (0.12.1)\r\n",
      "Requirement already satisfied: fonttools>=4.22.0 in /Users/aleksssokol3/hakaton-gagarin-sentiment_interface/.venv/lib/python3.11/site-packages (from matplotlib~=3.0->gradio) (4.51.0)\r\n",
      "Requirement already satisfied: kiwisolver>=1.3.1 in /Users/aleksssokol3/hakaton-gagarin-sentiment_interface/.venv/lib/python3.11/site-packages (from matplotlib~=3.0->gradio) (1.4.5)\r\n",
      "Requirement already satisfied: pyparsing>=2.3.1 in /Users/aleksssokol3/hakaton-gagarin-sentiment_interface/.venv/lib/python3.11/site-packages (from matplotlib~=3.0->gradio) (3.1.2)\r\n",
      "Requirement already satisfied: python-dateutil>=2.7 in /Users/aleksssokol3/hakaton-gagarin-sentiment_interface/.venv/lib/python3.11/site-packages (from matplotlib~=3.0->gradio) (2.9.0.post0)\r\n",
      "Requirement already satisfied: pytz>=2020.1 in /Users/aleksssokol3/hakaton-gagarin-sentiment_interface/.venv/lib/python3.11/site-packages (from pandas<3.0,>=1.0->gradio) (2024.1)\r\n",
      "Requirement already satisfied: tzdata>=2022.1 in /Users/aleksssokol3/hakaton-gagarin-sentiment_interface/.venv/lib/python3.11/site-packages (from pandas<3.0,>=1.0->gradio) (2024.1)\r\n",
      "Requirement already satisfied: annotated-types>=0.4.0 in /Users/aleksssokol3/hakaton-gagarin-sentiment_interface/.venv/lib/python3.11/site-packages (from pydantic>=2.0->gradio) (0.6.0)\r\n",
      "Requirement already satisfied: pydantic-core==2.18.1 in /Users/aleksssokol3/hakaton-gagarin-sentiment_interface/.venv/lib/python3.11/site-packages (from pydantic>=2.0->gradio) (2.18.1)\r\n",
      "\u001B[33mWARNING: typer 0.12.3 does not provide the extra 'all'\u001B[0m\u001B[33m\r\n",
      "\u001B[0mRequirement already satisfied: click>=8.0.0 in /Users/aleksssokol3/hakaton-gagarin-sentiment_interface/.venv/lib/python3.11/site-packages (from typer[all]<1.0,>=0.9->gradio) (8.1.7)\r\n",
      "Requirement already satisfied: shellingham>=1.3.0 in /Users/aleksssokol3/hakaton-gagarin-sentiment_interface/.venv/lib/python3.11/site-packages (from typer[all]<1.0,>=0.9->gradio) (1.5.4)\r\n",
      "Requirement already satisfied: rich>=10.11.0 in /Users/aleksssokol3/hakaton-gagarin-sentiment_interface/.venv/lib/python3.11/site-packages (from typer[all]<1.0,>=0.9->gradio) (13.7.1)\r\n",
      "Requirement already satisfied: starlette<0.38.0,>=0.37.2 in /Users/aleksssokol3/hakaton-gagarin-sentiment_interface/.venv/lib/python3.11/site-packages (from fastapi->gradio) (0.37.2)\r\n",
      "Requirement already satisfied: attrs>=22.2.0 in /Users/aleksssokol3/hakaton-gagarin-sentiment_interface/.venv/lib/python3.11/site-packages (from jsonschema>=3.0->altair<6.0,>=4.2.0->gradio) (23.2.0)\r\n",
      "Requirement already satisfied: jsonschema-specifications>=2023.03.6 in /Users/aleksssokol3/hakaton-gagarin-sentiment_interface/.venv/lib/python3.11/site-packages (from jsonschema>=3.0->altair<6.0,>=4.2.0->gradio) (2023.12.1)\r\n",
      "Requirement already satisfied: referencing>=0.28.4 in /Users/aleksssokol3/hakaton-gagarin-sentiment_interface/.venv/lib/python3.11/site-packages (from jsonschema>=3.0->altair<6.0,>=4.2.0->gradio) (0.34.0)\r\n",
      "Requirement already satisfied: rpds-py>=0.7.1 in /Users/aleksssokol3/hakaton-gagarin-sentiment_interface/.venv/lib/python3.11/site-packages (from jsonschema>=3.0->altair<6.0,>=4.2.0->gradio) (0.18.0)\r\n",
      "Requirement already satisfied: six>=1.5 in /Users/aleksssokol3/hakaton-gagarin-sentiment_interface/.venv/lib/python3.11/site-packages (from python-dateutil>=2.7->matplotlib~=3.0->gradio) (1.16.0)\r\n",
      "Requirement already satisfied: markdown-it-py>=2.2.0 in /Users/aleksssokol3/hakaton-gagarin-sentiment_interface/.venv/lib/python3.11/site-packages (from rich>=10.11.0->typer[all]<1.0,>=0.9->gradio) (3.0.0)\r\n",
      "Requirement already satisfied: pygments<3.0.0,>=2.13.0 in /Users/aleksssokol3/hakaton-gagarin-sentiment_interface/.venv/lib/python3.11/site-packages (from rich>=10.11.0->typer[all]<1.0,>=0.9->gradio) (2.17.2)\r\n",
      "Requirement already satisfied: charset-normalizer<4,>=2 in /Users/aleksssokol3/hakaton-gagarin-sentiment_interface/.venv/lib/python3.11/site-packages (from requests->huggingface-hub>=0.19.3->gradio) (3.3.2)\r\n",
      "Requirement already satisfied: urllib3<3,>=1.21.1 in /Users/aleksssokol3/hakaton-gagarin-sentiment_interface/.venv/lib/python3.11/site-packages (from requests->huggingface-hub>=0.19.3->gradio) (2.2.1)\r\n",
      "Requirement already satisfied: mdurl~=0.1 in /Users/aleksssokol3/hakaton-gagarin-sentiment_interface/.venv/lib/python3.11/site-packages (from markdown-it-py>=2.2.0->rich>=10.11.0->typer[all]<1.0,>=0.9->gradio) (0.1.2)\r\n",
      "Using cached gradio-4.26.0-py3-none-any.whl (17.1 MB)\r\n",
      "Installing collected packages: gradio\r\n",
      "  Attempting uninstall: gradio\r\n",
      "    Found existing installation: gradio 3.0.18\r\n",
      "    Uninstalling gradio-3.0.18:\r\n",
      "      Successfully uninstalled gradio-3.0.18\r\n",
      "Successfully installed gradio-4.26.0\r\n",
      "\r\n",
      "\u001B[1m[\u001B[0m\u001B[34;49mnotice\u001B[0m\u001B[1;39;49m]\u001B[0m\u001B[39;49m A new release of pip is available: \u001B[0m\u001B[31;49m23.2.1\u001B[0m\u001B[39;49m -> \u001B[0m\u001B[32;49m24.0\u001B[0m\r\n",
      "\u001B[1m[\u001B[0m\u001B[34;49mnotice\u001B[0m\u001B[1;39;49m]\u001B[0m\u001B[39;49m To update, run: \u001B[0m\u001B[32;49mpip install --upgrade pip\u001B[0m\r\n",
      "Note: you may need to restart the kernel to use updated packages.\n"
     ]
    }
   ],
   "source": [],
   "metadata": {
    "collapsed": false,
    "ExecuteTime": {
     "end_time": "2024-04-12T13:23:35.754367Z",
     "start_time": "2024-04-12T13:23:32.798583Z"
    }
   },
   "id": "e16650e33bc679d0",
   "execution_count": 23
  },
  {
   "cell_type": "code",
   "outputs": [],
   "source": [
    "import spacy\n",
    "nlp = spacy.load('ru_core_news_lg')  \n",
    "for key, text in texts.items():\n",
    "    doc = nlp(text)\n",
    "    orgs = [ent.text for ent in doc.ents if ent.label_ == \"ORG\"]\n",
    "    if orgs:  \n",
    "        print(f\"Ключ: {key}, Найденные компании: {', '.join(orgs)}\")\n",
    "    else:  \n",
    "        print(f\"Ключ: {key}, Компании не найдены\")"
   ],
   "metadata": {
    "collapsed": false
   },
   "id": "8b2695d58b0ee787"
  },
  {
   "cell_type": "code",
   "outputs": [
    {
     "data": {
      "text/plain": "     issuerid                                  EMITENT_FULL_NAME BGTicker  \\\n0           1  Акционерный коммерческий банк \"Держава\" публич...      NaN   \n1           2  \"МОСКОВСКИЙ КРЕДИТНЫЙ БАНК\" (публичное акционе...  CBOM RX   \n2           3  \"Российский акционерный коммерческий дорожный ...      NaN   \n3           4  Акционерная компания \"АЛРОСА\" (публичное акцио...  ALRS RX   \n4           5  Акционерный Коммерческий банк \"АВАНГАРД\" - пуб...      NaN   \n..        ...                                                ...      ...   \n250       270                                          Henderson      NaN   \n251       271                                         Совкомбанк      NaN   \n252       272                                          ЕвроТранс      NaN   \n253       273                                         Делимобиль      NaN   \n254       274                                            Диасофт      NaN   \n\n    BGTicker.1                                         Unnamed: 4  \\\n0        DERZP                                            Держава   \n1          NaN                          Московский кредитный банк   \n2         RDRB  Российский акционерный коммерческий дорожный банк   \n3          NaN                                             алроса   \n4         AVAN                                           Авангард   \n..         ...                                                ...   \n250       HNFG                                          Хендерсон   \n251       SVCB                                         Sovcombank   \n252       EUTR                                         АЗС Трасса   \n253       DELI                                          Делимобил   \n254       DIAS                                            Diasoft   \n\n        Unnamed: 5             Unnamed: 6  \\\n0         DERZHAVA                   DERZ   \n1              мкб  Credit Bank of Moscow   \n2           РДБанк          Дорожный банк   \n3           alrosa                    NaN   \n4         AVANGARD                    NaN   \n..             ...                    ...   \n250            NaN                    NaN   \n251            NaN                    NaN   \n252   АЗС \"Трасса\"           АЗС «Трасса»   \n253  Каршеринг Рус              delimobil   \n254            NaN                    NaN   \n\n                                           Unnamed: 7  \\\n0                                                 NaN   \n1                                         Credit Bank   \n2    Russian public joint-stock commercial roads Bank   \n3                                                 NaN   \n4                                                 NaN   \n..                                                ...   \n250                                               NaN   \n251                                               NaN   \n252                                               NaN   \n253                            ПАО \"Каршеринг Руссия\"   \n254                                               NaN   \n\n                  Unnamed: 8  Unnamed: 9 Unnamed: 10 Unnamed: 11 Unnamed: 12  \\\n0                        NaN         NaN         NaN         NaN         NaN   \n1                        NaN         NaN         NaN         NaN         NaN   \n2                 RosDorBank  РосДорБанк  roads Bank         NaN         NaN   \n3                        NaN         NaN         NaN         NaN         NaN   \n4                        NaN         NaN         NaN         NaN         NaN   \n..                       ...         ...         ...         ...         ...   \n250                      NaN         NaN         NaN         NaN         NaN   \n251                      NaN         NaN         NaN         NaN         NaN   \n252                      NaN         NaN         NaN         NaN         NaN   \n253  \"Каршеринг Руссия\", ПАО         NaN         NaN         NaN         NaN   \n254                      NaN         NaN         NaN         NaN         NaN   \n\n    Unnamed: 13  \n0           NaN  \n1           NaN  \n2           NaN  \n3           NaN  \n4           NaN  \n..          ...  \n250         NaN  \n251         NaN  \n252         NaN  \n253         NaN  \n254         NaN  \n\n[255 rows x 14 columns]",
      "text/html": "<div>\n<style scoped>\n    .dataframe tbody tr th:only-of-type {\n        vertical-align: middle;\n    }\n\n    .dataframe tbody tr th {\n        vertical-align: top;\n    }\n\n    .dataframe thead th {\n        text-align: right;\n    }\n</style>\n<table border=\"1\" class=\"dataframe\">\n  <thead>\n    <tr style=\"text-align: right;\">\n      <th></th>\n      <th>issuerid</th>\n      <th>EMITENT_FULL_NAME</th>\n      <th>BGTicker</th>\n      <th>BGTicker.1</th>\n      <th>Unnamed: 4</th>\n      <th>Unnamed: 5</th>\n      <th>Unnamed: 6</th>\n      <th>Unnamed: 7</th>\n      <th>Unnamed: 8</th>\n      <th>Unnamed: 9</th>\n      <th>Unnamed: 10</th>\n      <th>Unnamed: 11</th>\n      <th>Unnamed: 12</th>\n      <th>Unnamed: 13</th>\n    </tr>\n  </thead>\n  <tbody>\n    <tr>\n      <th>0</th>\n      <td>1</td>\n      <td>Акционерный коммерческий банк \"Держава\" публич...</td>\n      <td>NaN</td>\n      <td>DERZP</td>\n      <td>Держава</td>\n      <td>DERZHAVA</td>\n      <td>DERZ</td>\n      <td>NaN</td>\n      <td>NaN</td>\n      <td>NaN</td>\n      <td>NaN</td>\n      <td>NaN</td>\n      <td>NaN</td>\n      <td>NaN</td>\n    </tr>\n    <tr>\n      <th>1</th>\n      <td>2</td>\n      <td>\"МОСКОВСКИЙ КРЕДИТНЫЙ БАНК\" (публичное акционе...</td>\n      <td>CBOM RX</td>\n      <td>NaN</td>\n      <td>Московский кредитный банк</td>\n      <td>мкб</td>\n      <td>Credit Bank of Moscow</td>\n      <td>Credit Bank</td>\n      <td>NaN</td>\n      <td>NaN</td>\n      <td>NaN</td>\n      <td>NaN</td>\n      <td>NaN</td>\n      <td>NaN</td>\n    </tr>\n    <tr>\n      <th>2</th>\n      <td>3</td>\n      <td>\"Российский акционерный коммерческий дорожный ...</td>\n      <td>NaN</td>\n      <td>RDRB</td>\n      <td>Российский акционерный коммерческий дорожный банк</td>\n      <td>РДБанк</td>\n      <td>Дорожный банк</td>\n      <td>Russian public joint-stock commercial roads Bank</td>\n      <td>RosDorBank</td>\n      <td>РосДорБанк</td>\n      <td>roads Bank</td>\n      <td>NaN</td>\n      <td>NaN</td>\n      <td>NaN</td>\n    </tr>\n    <tr>\n      <th>3</th>\n      <td>4</td>\n      <td>Акционерная компания \"АЛРОСА\" (публичное акцио...</td>\n      <td>ALRS RX</td>\n      <td>NaN</td>\n      <td>алроса</td>\n      <td>alrosa</td>\n      <td>NaN</td>\n      <td>NaN</td>\n      <td>NaN</td>\n      <td>NaN</td>\n      <td>NaN</td>\n      <td>NaN</td>\n      <td>NaN</td>\n      <td>NaN</td>\n    </tr>\n    <tr>\n      <th>4</th>\n      <td>5</td>\n      <td>Акционерный Коммерческий банк \"АВАНГАРД\" - пуб...</td>\n      <td>NaN</td>\n      <td>AVAN</td>\n      <td>Авангард</td>\n      <td>AVANGARD</td>\n      <td>NaN</td>\n      <td>NaN</td>\n      <td>NaN</td>\n      <td>NaN</td>\n      <td>NaN</td>\n      <td>NaN</td>\n      <td>NaN</td>\n      <td>NaN</td>\n    </tr>\n    <tr>\n      <th>...</th>\n      <td>...</td>\n      <td>...</td>\n      <td>...</td>\n      <td>...</td>\n      <td>...</td>\n      <td>...</td>\n      <td>...</td>\n      <td>...</td>\n      <td>...</td>\n      <td>...</td>\n      <td>...</td>\n      <td>...</td>\n      <td>...</td>\n      <td>...</td>\n    </tr>\n    <tr>\n      <th>250</th>\n      <td>270</td>\n      <td>Henderson</td>\n      <td>NaN</td>\n      <td>HNFG</td>\n      <td>Хендерсон</td>\n      <td>NaN</td>\n      <td>NaN</td>\n      <td>NaN</td>\n      <td>NaN</td>\n      <td>NaN</td>\n      <td>NaN</td>\n      <td>NaN</td>\n      <td>NaN</td>\n      <td>NaN</td>\n    </tr>\n    <tr>\n      <th>251</th>\n      <td>271</td>\n      <td>Совкомбанк</td>\n      <td>NaN</td>\n      <td>SVCB</td>\n      <td>Sovcombank</td>\n      <td>NaN</td>\n      <td>NaN</td>\n      <td>NaN</td>\n      <td>NaN</td>\n      <td>NaN</td>\n      <td>NaN</td>\n      <td>NaN</td>\n      <td>NaN</td>\n      <td>NaN</td>\n    </tr>\n    <tr>\n      <th>252</th>\n      <td>272</td>\n      <td>ЕвроТранс</td>\n      <td>NaN</td>\n      <td>EUTR</td>\n      <td>АЗС Трасса</td>\n      <td>АЗС \"Трасса\"</td>\n      <td>АЗС «Трасса»</td>\n      <td>NaN</td>\n      <td>NaN</td>\n      <td>NaN</td>\n      <td>NaN</td>\n      <td>NaN</td>\n      <td>NaN</td>\n      <td>NaN</td>\n    </tr>\n    <tr>\n      <th>253</th>\n      <td>273</td>\n      <td>Делимобиль</td>\n      <td>NaN</td>\n      <td>DELI</td>\n      <td>Делимобил</td>\n      <td>Каршеринг Рус</td>\n      <td>delimobil</td>\n      <td>ПАО \"Каршеринг Руссия\"</td>\n      <td>\"Каршеринг Руссия\", ПАО</td>\n      <td>NaN</td>\n      <td>NaN</td>\n      <td>NaN</td>\n      <td>NaN</td>\n      <td>NaN</td>\n    </tr>\n    <tr>\n      <th>254</th>\n      <td>274</td>\n      <td>Диасофт</td>\n      <td>NaN</td>\n      <td>DIAS</td>\n      <td>Diasoft</td>\n      <td>NaN</td>\n      <td>NaN</td>\n      <td>NaN</td>\n      <td>NaN</td>\n      <td>NaN</td>\n      <td>NaN</td>\n      <td>NaN</td>\n      <td>NaN</td>\n      <td>NaN</td>\n    </tr>\n  </tbody>\n</table>\n<p>255 rows × 14 columns</p>\n</div>"
     },
     "execution_count": 9,
     "metadata": {},
     "output_type": "execute_result"
    }
   ],
   "source": [
    "names = pd.read_excel('../data/names.xlsx')\n",
    "names"
   ],
   "metadata": {
    "collapsed": false,
    "ExecuteTime": {
     "end_time": "2024-04-12T14:27:26.638620Z",
     "start_time": "2024-04-12T14:27:26.557471Z"
    }
   },
   "id": "5f059d8262be9089",
   "execution_count": 9
  },
  {
   "cell_type": "code",
   "outputs": [
    {
     "data": {
      "text/plain": "    BGTicker BGTicker.1                                         Unnamed: 4  \\\n0        NaN      DERZP                                            Держава   \n1    CBOM RX        NaN                          Московский кредитный банк   \n2        NaN       RDRB  Российский акционерный коммерческий дорожный банк   \n3    ALRS RX        NaN                                             алроса   \n4        NaN       AVAN                                           Авангард   \n..       ...        ...                                                ...   \n250      NaN       HNFG                                          Хендерсон   \n251      NaN       SVCB                                         Sovcombank   \n252      NaN       EUTR                                         АЗС Трасса   \n253      NaN       DELI                                          Делимобил   \n254      NaN       DIAS                                            Diasoft   \n\n        Unnamed: 5             Unnamed: 6  \\\n0         DERZHAVA                   DERZ   \n1              мкб  Credit Bank of Moscow   \n2           РДБанк          Дорожный банк   \n3           alrosa                    NaN   \n4         AVANGARD                    NaN   \n..             ...                    ...   \n250            NaN                    NaN   \n251            NaN                    NaN   \n252   АЗС \"Трасса\"           АЗС «Трасса»   \n253  Каршеринг Рус              delimobil   \n254            NaN                    NaN   \n\n                                           Unnamed: 7  \\\n0                                                 NaN   \n1                                         Credit Bank   \n2    Russian public joint-stock commercial roads Bank   \n3                                                 NaN   \n4                                                 NaN   \n..                                                ...   \n250                                               NaN   \n251                                               NaN   \n252                                               NaN   \n253                            ПАО \"Каршеринг Руссия\"   \n254                                               NaN   \n\n                  Unnamed: 8  Unnamed: 9 Unnamed: 10 Unnamed: 11 Unnamed: 12  \\\n0                        NaN         NaN         NaN         NaN         NaN   \n1                        NaN         NaN         NaN         NaN         NaN   \n2                 RosDorBank  РосДорБанк  roads Bank         NaN         NaN   \n3                        NaN         NaN         NaN         NaN         NaN   \n4                        NaN         NaN         NaN         NaN         NaN   \n..                       ...         ...         ...         ...         ...   \n250                      NaN         NaN         NaN         NaN         NaN   \n251                      NaN         NaN         NaN         NaN         NaN   \n252                      NaN         NaN         NaN         NaN         NaN   \n253  \"Каршеринг Руссия\", ПАО         NaN         NaN         NaN         NaN   \n254                      NaN         NaN         NaN         NaN         NaN   \n\n    Unnamed: 13 synonims  \n0           NaN     None  \n1           NaN     None  \n2           NaN     None  \n3           NaN     None  \n4           NaN     None  \n..          ...      ...  \n250         NaN     None  \n251         NaN     None  \n252         NaN     None  \n253         NaN     None  \n254         NaN     None  \n\n[255 rows x 13 columns]",
      "text/html": "<div>\n<style scoped>\n    .dataframe tbody tr th:only-of-type {\n        vertical-align: middle;\n    }\n\n    .dataframe tbody tr th {\n        vertical-align: top;\n    }\n\n    .dataframe thead th {\n        text-align: right;\n    }\n</style>\n<table border=\"1\" class=\"dataframe\">\n  <thead>\n    <tr style=\"text-align: right;\">\n      <th></th>\n      <th>BGTicker</th>\n      <th>BGTicker.1</th>\n      <th>Unnamed: 4</th>\n      <th>Unnamed: 5</th>\n      <th>Unnamed: 6</th>\n      <th>Unnamed: 7</th>\n      <th>Unnamed: 8</th>\n      <th>Unnamed: 9</th>\n      <th>Unnamed: 10</th>\n      <th>Unnamed: 11</th>\n      <th>Unnamed: 12</th>\n      <th>Unnamed: 13</th>\n      <th>synonims</th>\n    </tr>\n  </thead>\n  <tbody>\n    <tr>\n      <th>0</th>\n      <td>NaN</td>\n      <td>DERZP</td>\n      <td>Держава</td>\n      <td>DERZHAVA</td>\n      <td>DERZ</td>\n      <td>NaN</td>\n      <td>NaN</td>\n      <td>NaN</td>\n      <td>NaN</td>\n      <td>NaN</td>\n      <td>NaN</td>\n      <td>NaN</td>\n      <td>None</td>\n    </tr>\n    <tr>\n      <th>1</th>\n      <td>CBOM RX</td>\n      <td>NaN</td>\n      <td>Московский кредитный банк</td>\n      <td>мкб</td>\n      <td>Credit Bank of Moscow</td>\n      <td>Credit Bank</td>\n      <td>NaN</td>\n      <td>NaN</td>\n      <td>NaN</td>\n      <td>NaN</td>\n      <td>NaN</td>\n      <td>NaN</td>\n      <td>None</td>\n    </tr>\n    <tr>\n      <th>2</th>\n      <td>NaN</td>\n      <td>RDRB</td>\n      <td>Российский акционерный коммерческий дорожный банк</td>\n      <td>РДБанк</td>\n      <td>Дорожный банк</td>\n      <td>Russian public joint-stock commercial roads Bank</td>\n      <td>RosDorBank</td>\n      <td>РосДорБанк</td>\n      <td>roads Bank</td>\n      <td>NaN</td>\n      <td>NaN</td>\n      <td>NaN</td>\n      <td>None</td>\n    </tr>\n    <tr>\n      <th>3</th>\n      <td>ALRS RX</td>\n      <td>NaN</td>\n      <td>алроса</td>\n      <td>alrosa</td>\n      <td>NaN</td>\n      <td>NaN</td>\n      <td>NaN</td>\n      <td>NaN</td>\n      <td>NaN</td>\n      <td>NaN</td>\n      <td>NaN</td>\n      <td>NaN</td>\n      <td>None</td>\n    </tr>\n    <tr>\n      <th>4</th>\n      <td>NaN</td>\n      <td>AVAN</td>\n      <td>Авангард</td>\n      <td>AVANGARD</td>\n      <td>NaN</td>\n      <td>NaN</td>\n      <td>NaN</td>\n      <td>NaN</td>\n      <td>NaN</td>\n      <td>NaN</td>\n      <td>NaN</td>\n      <td>NaN</td>\n      <td>None</td>\n    </tr>\n    <tr>\n      <th>...</th>\n      <td>...</td>\n      <td>...</td>\n      <td>...</td>\n      <td>...</td>\n      <td>...</td>\n      <td>...</td>\n      <td>...</td>\n      <td>...</td>\n      <td>...</td>\n      <td>...</td>\n      <td>...</td>\n      <td>...</td>\n      <td>...</td>\n    </tr>\n    <tr>\n      <th>250</th>\n      <td>NaN</td>\n      <td>HNFG</td>\n      <td>Хендерсон</td>\n      <td>NaN</td>\n      <td>NaN</td>\n      <td>NaN</td>\n      <td>NaN</td>\n      <td>NaN</td>\n      <td>NaN</td>\n      <td>NaN</td>\n      <td>NaN</td>\n      <td>NaN</td>\n      <td>None</td>\n    </tr>\n    <tr>\n      <th>251</th>\n      <td>NaN</td>\n      <td>SVCB</td>\n      <td>Sovcombank</td>\n      <td>NaN</td>\n      <td>NaN</td>\n      <td>NaN</td>\n      <td>NaN</td>\n      <td>NaN</td>\n      <td>NaN</td>\n      <td>NaN</td>\n      <td>NaN</td>\n      <td>NaN</td>\n      <td>None</td>\n    </tr>\n    <tr>\n      <th>252</th>\n      <td>NaN</td>\n      <td>EUTR</td>\n      <td>АЗС Трасса</td>\n      <td>АЗС \"Трасса\"</td>\n      <td>АЗС «Трасса»</td>\n      <td>NaN</td>\n      <td>NaN</td>\n      <td>NaN</td>\n      <td>NaN</td>\n      <td>NaN</td>\n      <td>NaN</td>\n      <td>NaN</td>\n      <td>None</td>\n    </tr>\n    <tr>\n      <th>253</th>\n      <td>NaN</td>\n      <td>DELI</td>\n      <td>Делимобил</td>\n      <td>Каршеринг Рус</td>\n      <td>delimobil</td>\n      <td>ПАО \"Каршеринг Руссия\"</td>\n      <td>\"Каршеринг Руссия\", ПАО</td>\n      <td>NaN</td>\n      <td>NaN</td>\n      <td>NaN</td>\n      <td>NaN</td>\n      <td>NaN</td>\n      <td>None</td>\n    </tr>\n    <tr>\n      <th>254</th>\n      <td>NaN</td>\n      <td>DIAS</td>\n      <td>Diasoft</td>\n      <td>NaN</td>\n      <td>NaN</td>\n      <td>NaN</td>\n      <td>NaN</td>\n      <td>NaN</td>\n      <td>NaN</td>\n      <td>NaN</td>\n      <td>NaN</td>\n      <td>NaN</td>\n      <td>None</td>\n    </tr>\n  </tbody>\n</table>\n<p>255 rows × 13 columns</p>\n</div>"
     },
     "execution_count": 49,
     "metadata": {},
     "output_type": "execute_result"
    }
   ],
   "source": [
    "n = names.drop([\"issuerid\", \"EMITENT_FULL_NAME\"], axis=1)\n",
    "n[\"synonims\"] = None\n",
    "n"
   ],
   "metadata": {
    "collapsed": false,
    "ExecuteTime": {
     "end_time": "2024-04-12T14:46:16.365776Z",
     "start_time": "2024-04-12T14:46:16.349955Z"
    }
   },
   "id": "740dd052ec502612",
   "execution_count": 49
  },
  {
   "cell_type": "code",
   "outputs": [
    {
     "name": "stderr",
     "output_type": "stream",
     "text": [
      "IOPub data rate exceeded.\n",
      "The Jupyter server will temporarily stop sending output\n",
      "to the client in order to avoid crashing it.\n",
      "To change this limit, set the config variable\n",
      "`--ServerApp.iopub_data_rate_limit`.\n",
      "\n",
      "Current values:\n",
      "ServerApp.iopub_data_rate_limit=1000000.0 (bytes/sec)\n",
      "ServerApp.rate_limit_window=3.0 (secs)\n",
      "\n"
     ]
    }
   ],
   "source": [
    "import json\n",
    "for i in range(len(n)):\n",
    "    arr = json.dumps(n.iloc[i, :].dropna().to_list())\n",
    "    print(arr)\n",
    "    n[\"synonims\"] = arr\n",
    "n"
   ],
   "metadata": {
    "collapsed": false,
    "is_executing": true,
    "ExecuteTime": {
     "start_time": "2024-04-12T14:53:50.019441Z"
    }
   },
   "id": "4c1e52e37707f08a",
   "execution_count": null
  },
  {
   "cell_type": "code",
   "outputs": [
    {
     "data": {
      "text/plain": "      Unnamed: 0  Most_Common_Company\n0              0             Селигдар\n1              1                 Ozon\n2              2                 НМТП\n3              3                 НМТП\n4              4         Windfall Tax\n...          ...                  ...\n1852        1852                    🟢\n1853        1853                    🟢\n1854        1854  Компании не найдены\n1855        1855         Polymetal vs\n1856        1856         Polymetal vs\n\n[1857 rows x 2 columns]",
      "text/html": "<div>\n<style scoped>\n    .dataframe tbody tr th:only-of-type {\n        vertical-align: middle;\n    }\n\n    .dataframe tbody tr th {\n        vertical-align: top;\n    }\n\n    .dataframe thead th {\n        text-align: right;\n    }\n</style>\n<table border=\"1\" class=\"dataframe\">\n  <thead>\n    <tr style=\"text-align: right;\">\n      <th></th>\n      <th>Unnamed: 0</th>\n      <th>Most_Common_Company</th>\n    </tr>\n  </thead>\n  <tbody>\n    <tr>\n      <th>0</th>\n      <td>0</td>\n      <td>Селигдар</td>\n    </tr>\n    <tr>\n      <th>1</th>\n      <td>1</td>\n      <td>Ozon</td>\n    </tr>\n    <tr>\n      <th>2</th>\n      <td>2</td>\n      <td>НМТП</td>\n    </tr>\n    <tr>\n      <th>3</th>\n      <td>3</td>\n      <td>НМТП</td>\n    </tr>\n    <tr>\n      <th>4</th>\n      <td>4</td>\n      <td>Windfall Tax</td>\n    </tr>\n    <tr>\n      <th>...</th>\n      <td>...</td>\n      <td>...</td>\n    </tr>\n    <tr>\n      <th>1852</th>\n      <td>1852</td>\n      <td>🟢</td>\n    </tr>\n    <tr>\n      <th>1853</th>\n      <td>1853</td>\n      <td>🟢</td>\n    </tr>\n    <tr>\n      <th>1854</th>\n      <td>1854</td>\n      <td>Компании не найдены</td>\n    </tr>\n    <tr>\n      <th>1855</th>\n      <td>1855</td>\n      <td>Polymetal vs</td>\n    </tr>\n    <tr>\n      <th>1856</th>\n      <td>1856</td>\n      <td>Polymetal vs</td>\n    </tr>\n  </tbody>\n</table>\n<p>1857 rows × 2 columns</p>\n</div>"
     },
     "execution_count": 54,
     "metadata": {},
     "output_type": "execute_result"
    }
   ],
   "source": [],
   "metadata": {
    "collapsed": false,
    "ExecuteTime": {
     "end_time": "2024-04-12T14:50:22.854293Z",
     "start_time": "2024-04-12T14:50:22.827309Z"
    }
   },
   "id": "eb907fe954bf8c7",
   "execution_count": 54
  },
  {
   "cell_type": "code",
   "outputs": [
    {
     "data": {
      "text/plain": "      messageid                                        MessageText  issuerid\n6035       3623  🪆 Российский рынок акций начал новую неделю с ...       229\n6036       3623  🪆 Российский рынок акций начал новую неделю с ...       231",
      "text/html": "<div>\n<style scoped>\n    .dataframe tbody tr th:only-of-type {\n        vertical-align: middle;\n    }\n\n    .dataframe tbody tr th {\n        vertical-align: top;\n    }\n\n    .dataframe thead th {\n        text-align: right;\n    }\n</style>\n<table border=\"1\" class=\"dataframe\">\n  <thead>\n    <tr style=\"text-align: right;\">\n      <th></th>\n      <th>messageid</th>\n      <th>MessageText</th>\n      <th>issuerid</th>\n    </tr>\n  </thead>\n  <tbody>\n    <tr>\n      <th>6035</th>\n      <td>3623</td>\n      <td>🪆 Российский рынок акций начал новую неделю с ...</td>\n      <td>229</td>\n    </tr>\n    <tr>\n      <th>6036</th>\n      <td>3623</td>\n      <td>🪆 Российский рынок акций начал новую неделю с ...</td>\n      <td>231</td>\n    </tr>\n  </tbody>\n</table>\n</div>"
     },
     "execution_count": 10,
     "metadata": {},
     "output_type": "execute_result"
    }
   ],
   "source": [
    "clear_df[clear_df.iloc[6035][\"MessageText\"] == clear_df[\"MessageText\"]]"
   ],
   "metadata": {
    "collapsed": false,
    "ExecuteTime": {
     "end_time": "2024-04-12T20:51:29.410459Z",
     "start_time": "2024-04-12T20:51:29.389352Z"
    }
   },
   "id": "38b560e18efce554",
   "execution_count": 10
  },
  {
   "cell_type": "code",
   "outputs": [
    {
     "data": {
      "text/plain": "       messageid                                        MessageText  issuerid\n0           5408  ?? Фокус недели #ФН  Сегодня ????? ММК опублик...        90\n1          64803  ??#LSRG  ЛСР - операционные результаты (2019г)...        57\n2          23389  #CHMF Северсталь (CHMF) впервые поставила в Бр...       152\n3            677  \"Версия: Многоходовочка по Роснефти  Роснефтег...       112\n4           4486  🟢 Новости к этому часу   ⚪️ФРС США необходимо ...       115\n...          ...                                                ...       ...\n19350       1758  \"#NLMK \"\"Новолипецкий металлургический комбина...       116\n19351       6196  ?? За 2020 год на МосБирже может появиться 10 ...       218\n19352     141069  \"????#FIVE #ритейлеры #россия  СДЕЛКИ \"\"МАГНИТ...       227\n19353        283                  UPD: ТА Интер РАО UPD: ТА Новатэк       115\n19354     276916  🇷🇺#MVID #отчетность  12 марта - М.Видео - МСФО...        88\n\n[19355 rows x 3 columns]",
      "text/html": "<div>\n<style scoped>\n    .dataframe tbody tr th:only-of-type {\n        vertical-align: middle;\n    }\n\n    .dataframe tbody tr th {\n        vertical-align: top;\n    }\n\n    .dataframe thead th {\n        text-align: right;\n    }\n</style>\n<table border=\"1\" class=\"dataframe\">\n  <thead>\n    <tr style=\"text-align: right;\">\n      <th></th>\n      <th>messageid</th>\n      <th>MessageText</th>\n      <th>issuerid</th>\n    </tr>\n  </thead>\n  <tbody>\n    <tr>\n      <th>0</th>\n      <td>5408</td>\n      <td>?? Фокус недели #ФН  Сегодня ????? ММК опублик...</td>\n      <td>90</td>\n    </tr>\n    <tr>\n      <th>1</th>\n      <td>64803</td>\n      <td>??#LSRG  ЛСР - операционные результаты (2019г)...</td>\n      <td>57</td>\n    </tr>\n    <tr>\n      <th>2</th>\n      <td>23389</td>\n      <td>#CHMF Северсталь (CHMF) впервые поставила в Бр...</td>\n      <td>152</td>\n    </tr>\n    <tr>\n      <th>3</th>\n      <td>677</td>\n      <td>\"Версия: Многоходовочка по Роснефти  Роснефтег...</td>\n      <td>112</td>\n    </tr>\n    <tr>\n      <th>4</th>\n      <td>4486</td>\n      <td>🟢 Новости к этому часу   ⚪️ФРС США необходимо ...</td>\n      <td>115</td>\n    </tr>\n    <tr>\n      <th>...</th>\n      <td>...</td>\n      <td>...</td>\n      <td>...</td>\n    </tr>\n    <tr>\n      <th>19350</th>\n      <td>1758</td>\n      <td>\"#NLMK \"\"Новолипецкий металлургический комбина...</td>\n      <td>116</td>\n    </tr>\n    <tr>\n      <th>19351</th>\n      <td>6196</td>\n      <td>?? За 2020 год на МосБирже может появиться 10 ...</td>\n      <td>218</td>\n    </tr>\n    <tr>\n      <th>19352</th>\n      <td>141069</td>\n      <td>\"????#FIVE #ритейлеры #россия  СДЕЛКИ \"\"МАГНИТ...</td>\n      <td>227</td>\n    </tr>\n    <tr>\n      <th>19353</th>\n      <td>283</td>\n      <td>UPD: ТА Интер РАО UPD: ТА Новатэк</td>\n      <td>115</td>\n    </tr>\n    <tr>\n      <th>19354</th>\n      <td>276916</td>\n      <td>🇷🇺#MVID #отчетность  12 марта - М.Видео - МСФО...</td>\n      <td>88</td>\n    </tr>\n  </tbody>\n</table>\n<p>19355 rows × 3 columns</p>\n</div>"
     },
     "execution_count": 8,
     "metadata": {},
     "output_type": "execute_result"
    }
   ],
   "source": [
    "clear_df"
   ],
   "metadata": {
    "collapsed": false,
    "ExecuteTime": {
     "end_time": "2024-04-12T20:50:25.081324Z",
     "start_time": "2024-04-12T20:50:25.064920Z"
    }
   },
   "id": "e187e77ee2432cc4",
   "execution_count": 8
  },
  {
   "cell_type": "code",
   "outputs": [],
   "source": [
    "import json\n",
    "\n",
    "with open('../data.json') as f:\n",
    "    print(json.load(f))\n",
    "    templates = json.load(f)\n",
    "    print(templates)\n",
    "\n",
    "print(templates)"
   ],
   "metadata": {
    "collapsed": false
   },
   "id": "df170c17970e2118",
   "execution_count": 23
  },
  {
   "cell_type": "code",
   "outputs": [],
   "source": [
    "json.load('../data.json')"
   ],
   "metadata": {
    "collapsed": false,
    "is_executing": true
   },
   "id": "7d3f819585646d9e",
   "execution_count": null
  },
  {
   "cell_type": "code",
   "outputs": [],
   "source": [
    "templates"
   ],
   "metadata": {
    "collapsed": false
   },
   "id": "ef7e7ba312f9abaa",
   "execution_count": 18
  },
  {
   "cell_type": "code",
   "outputs": [],
   "source": [
    "def f1_score_macro(y_true, y_pred):\n",
    "    "
   ],
   "metadata": {
    "collapsed": false
   },
   "id": "ed545584eea1a809"
  },
  {
   "cell_type": "code",
   "outputs": [
    {
     "data": {
      "text/plain": "'{\"[1, 2, 3]\": 2}'"
     },
     "execution_count": 4,
     "metadata": {},
     "output_type": "execute_result"
    }
   ],
   "source": [
    "a = json.dumps({'[1, 2, 3]': 2})\n",
    "a"
   ],
   "metadata": {
    "collapsed": false,
    "ExecuteTime": {
     "end_time": "2024-04-13T05:39:36.677959Z",
     "start_time": "2024-04-13T05:39:36.667356Z"
    }
   },
   "id": "6b19562867c0c938",
   "execution_count": 4
  },
  {
   "cell_type": "code",
   "outputs": [],
   "source": [
    "import json\n",
    "import pandas as pd"
   ],
   "metadata": {
    "collapsed": false,
    "ExecuteTime": {
     "end_time": "2024-04-13T07:50:01.776184Z",
     "start_time": "2024-04-13T07:50:01.768111Z"
    }
   },
   "id": "809756bdbeea00fe",
   "execution_count": 16
  },
  {
   "cell_type": "code",
   "outputs": [],
   "source": [
    "df = pd.read_excel('../data/merged_dataframes.xlsx')"
   ],
   "metadata": {
    "collapsed": false,
    "ExecuteTime": {
     "end_time": "2024-04-13T07:50:02.949708Z",
     "start_time": "2024-04-13T07:50:01.932541Z"
    }
   },
   "id": "4796767e86fb76bf",
   "execution_count": 17
  },
  {
   "cell_type": "code",
   "outputs": [
    {
     "data": {
      "text/plain": "      Unnamed: 0  issuerid                                  EMITENT_FULL_NAME  \\\n3              3         4  Акционерная компания \"АЛРОСА\" (публичное акцио...   \n19            19         4  Акционерная компания \"АЛРОСА\" (публичное акцио...   \n37            37         4  Акционерная компания \"АЛРОСА\" (публичное акцио...   \n40            40         4  Акционерная компания \"АЛРОСА\" (публичное акцио...   \n55            55         4  Акционерная компания \"АЛРОСА\" (публичное акцио...   \n...          ...       ...                                                ...   \n9130        9130       261                                          INARCTICA   \n9140        9140       265                                       ЮЖУРАЛЗОЛОТО   \n9149        9149       265                                       ЮЖУРАЛЗОЛОТО   \n9190        9190       266                                     Artgen biotech   \n9245        9245       271                                         Совкомбанк   \n\n                                           MergedColumn   ChannelID  \\\n3                       ['alrs rx', 'алроса', 'alrosa']  1001029560   \n19                      ['alrs rx', 'алроса', 'alrosa']  1197210433   \n37                      ['alrs rx', 'алроса', 'alrosa']  1197296889   \n40                      ['alrs rx', 'алроса', 'alrosa']  1197210433   \n55                      ['alrs rx', 'алроса', 'alrosa']  1197210433   \n...                                                 ...         ...   \n9130  ['aqua', 'инарктика', 'русское море', 'русская...  1197210433   \n9140                                    ['ugld', 'югк']  1197210433   \n9149                                    ['ugld', 'югк']  1197210433   \n9190     ['abio', 'артген биотех', 'артген', 'iартген']  1075101206   \n9245                             ['svcb', 'sovcombank']  1125172232   \n\n      MessageID           DateAdded          DatePosted  \\\n3         16990 2024-03-12 15:44:15 2024-03-12 15:41:12   \n19        51117 2023-07-03 13:04:22 2023-07-03 10:48:11   \n37        20372 2024-02-28 13:48:41 2024-02-28 12:39:03   \n40        57845 2024-02-01 13:46:17 2024-02-01 08:26:27   \n55        57084 2024-01-05 13:37:52 2024-01-05 13:06:41   \n...         ...                 ...                 ...   \n9130      57625 2024-01-24 19:45:31 2024-01-24 14:31:13   \n9140      58513 2024-02-23 19:47:47 2024-02-23 17:29:04   \n9149      57893 2024-02-02 19:46:10 2024-02-02 14:11:21   \n9190      16838 2024-01-23 19:23:19 2024-01-23 16:21:41   \n9245      47319 2024-02-07 19:24:23 2024-02-07 16:01:38   \n\n                                            MessageText  IsForward  \\\n3     💎 Портфели БКС. Фавориты продолжают обгонять и...       True   \n19    Шпион РЦБ замечает аномальные покупки в $ALRS....       True   \n37    ⬇️ #ALRS 43.7M₽ -0.06%  🔷 Аномальный объем  АЛ...       True   \n40    \"#ALRS АЛРОСА и власти Анголы продолжают перег...       True   \n55    \"#ALRS Финансовые показатели АЛРОСА в 2024 г, ...       True   \n...                                                 ...        ...   \n9130  Бумаги с повышенной вероятностью шорт-сквиза н...       True   \n9140  \"#UGLD США ввели санкции против Южуралзолота и...       True   \n9149  #UGLD Ассоциация розничных инвесторов вступила...       True   \n9190  #ABIO Главное из звонка с инвесторами группы А...       True   \n9245  Акции Совкомбанка выросли на 36% после после в...       True   \n\n      SentimentScore  \n3                  1  \n19                 4  \n37                 3  \n40                 2  \n55                 3  \n...              ...  \n9130               3  \n9140               2  \n9149               3  \n9190               4  \n9245               3  \n\n[613 rows x 11 columns]",
      "text/html": "<div>\n<style scoped>\n    .dataframe tbody tr th:only-of-type {\n        vertical-align: middle;\n    }\n\n    .dataframe tbody tr th {\n        vertical-align: top;\n    }\n\n    .dataframe thead th {\n        text-align: right;\n    }\n</style>\n<table border=\"1\" class=\"dataframe\">\n  <thead>\n    <tr style=\"text-align: right;\">\n      <th></th>\n      <th>Unnamed: 0</th>\n      <th>issuerid</th>\n      <th>EMITENT_FULL_NAME</th>\n      <th>MergedColumn</th>\n      <th>ChannelID</th>\n      <th>MessageID</th>\n      <th>DateAdded</th>\n      <th>DatePosted</th>\n      <th>MessageText</th>\n      <th>IsForward</th>\n      <th>SentimentScore</th>\n    </tr>\n  </thead>\n  <tbody>\n    <tr>\n      <th>3</th>\n      <td>3</td>\n      <td>4</td>\n      <td>Акционерная компания \"АЛРОСА\" (публичное акцио...</td>\n      <td>['alrs rx', 'алроса', 'alrosa']</td>\n      <td>1001029560</td>\n      <td>16990</td>\n      <td>2024-03-12 15:44:15</td>\n      <td>2024-03-12 15:41:12</td>\n      <td>💎 Портфели БКС. Фавориты продолжают обгонять и...</td>\n      <td>True</td>\n      <td>1</td>\n    </tr>\n    <tr>\n      <th>19</th>\n      <td>19</td>\n      <td>4</td>\n      <td>Акционерная компания \"АЛРОСА\" (публичное акцио...</td>\n      <td>['alrs rx', 'алроса', 'alrosa']</td>\n      <td>1197210433</td>\n      <td>51117</td>\n      <td>2023-07-03 13:04:22</td>\n      <td>2023-07-03 10:48:11</td>\n      <td>Шпион РЦБ замечает аномальные покупки в $ALRS....</td>\n      <td>True</td>\n      <td>4</td>\n    </tr>\n    <tr>\n      <th>37</th>\n      <td>37</td>\n      <td>4</td>\n      <td>Акционерная компания \"АЛРОСА\" (публичное акцио...</td>\n      <td>['alrs rx', 'алроса', 'alrosa']</td>\n      <td>1197296889</td>\n      <td>20372</td>\n      <td>2024-02-28 13:48:41</td>\n      <td>2024-02-28 12:39:03</td>\n      <td>⬇️ #ALRS 43.7M₽ -0.06%  🔷 Аномальный объем  АЛ...</td>\n      <td>True</td>\n      <td>3</td>\n    </tr>\n    <tr>\n      <th>40</th>\n      <td>40</td>\n      <td>4</td>\n      <td>Акционерная компания \"АЛРОСА\" (публичное акцио...</td>\n      <td>['alrs rx', 'алроса', 'alrosa']</td>\n      <td>1197210433</td>\n      <td>57845</td>\n      <td>2024-02-01 13:46:17</td>\n      <td>2024-02-01 08:26:27</td>\n      <td>\"#ALRS АЛРОСА и власти Анголы продолжают перег...</td>\n      <td>True</td>\n      <td>2</td>\n    </tr>\n    <tr>\n      <th>55</th>\n      <td>55</td>\n      <td>4</td>\n      <td>Акционерная компания \"АЛРОСА\" (публичное акцио...</td>\n      <td>['alrs rx', 'алроса', 'alrosa']</td>\n      <td>1197210433</td>\n      <td>57084</td>\n      <td>2024-01-05 13:37:52</td>\n      <td>2024-01-05 13:06:41</td>\n      <td>\"#ALRS Финансовые показатели АЛРОСА в 2024 г, ...</td>\n      <td>True</td>\n      <td>3</td>\n    </tr>\n    <tr>\n      <th>...</th>\n      <td>...</td>\n      <td>...</td>\n      <td>...</td>\n      <td>...</td>\n      <td>...</td>\n      <td>...</td>\n      <td>...</td>\n      <td>...</td>\n      <td>...</td>\n      <td>...</td>\n      <td>...</td>\n    </tr>\n    <tr>\n      <th>9130</th>\n      <td>9130</td>\n      <td>261</td>\n      <td>INARCTICA</td>\n      <td>['aqua', 'инарктика', 'русское море', 'русская...</td>\n      <td>1197210433</td>\n      <td>57625</td>\n      <td>2024-01-24 19:45:31</td>\n      <td>2024-01-24 14:31:13</td>\n      <td>Бумаги с повышенной вероятностью шорт-сквиза н...</td>\n      <td>True</td>\n      <td>3</td>\n    </tr>\n    <tr>\n      <th>9140</th>\n      <td>9140</td>\n      <td>265</td>\n      <td>ЮЖУРАЛЗОЛОТО</td>\n      <td>['ugld', 'югк']</td>\n      <td>1197210433</td>\n      <td>58513</td>\n      <td>2024-02-23 19:47:47</td>\n      <td>2024-02-23 17:29:04</td>\n      <td>\"#UGLD США ввели санкции против Южуралзолота и...</td>\n      <td>True</td>\n      <td>2</td>\n    </tr>\n    <tr>\n      <th>9149</th>\n      <td>9149</td>\n      <td>265</td>\n      <td>ЮЖУРАЛЗОЛОТО</td>\n      <td>['ugld', 'югк']</td>\n      <td>1197210433</td>\n      <td>57893</td>\n      <td>2024-02-02 19:46:10</td>\n      <td>2024-02-02 14:11:21</td>\n      <td>#UGLD Ассоциация розничных инвесторов вступила...</td>\n      <td>True</td>\n      <td>3</td>\n    </tr>\n    <tr>\n      <th>9190</th>\n      <td>9190</td>\n      <td>266</td>\n      <td>Artgen biotech</td>\n      <td>['abio', 'артген биотех', 'артген', 'iартген']</td>\n      <td>1075101206</td>\n      <td>16838</td>\n      <td>2024-01-23 19:23:19</td>\n      <td>2024-01-23 16:21:41</td>\n      <td>#ABIO Главное из звонка с инвесторами группы А...</td>\n      <td>True</td>\n      <td>4</td>\n    </tr>\n    <tr>\n      <th>9245</th>\n      <td>9245</td>\n      <td>271</td>\n      <td>Совкомбанк</td>\n      <td>['svcb', 'sovcombank']</td>\n      <td>1125172232</td>\n      <td>47319</td>\n      <td>2024-02-07 19:24:23</td>\n      <td>2024-02-07 16:01:38</td>\n      <td>Акции Совкомбанка выросли на 36% после после в...</td>\n      <td>True</td>\n      <td>3</td>\n    </tr>\n  </tbody>\n</table>\n<p>613 rows × 11 columns</p>\n</div>"
     },
     "execution_count": 18,
     "metadata": {},
     "output_type": "execute_result"
    }
   ],
   "source": [
    "df[df[\"IsForward\"] == True]"
   ],
   "metadata": {
    "collapsed": false,
    "ExecuteTime": {
     "end_time": "2024-04-13T07:50:02.956506Z",
     "start_time": "2024-04-13T07:50:02.949921Z"
    }
   },
   "id": "66b4b0a70740326b",
   "execution_count": 18
  },
  {
   "cell_type": "code",
   "outputs": [
    {
     "ename": "KeyError",
     "evalue": "('MergedColumn', 'issuerid')",
     "output_type": "error",
     "traceback": [
      "\u001B[0;31m---------------------------------------------------------------------------\u001B[0m",
      "\u001B[0;31mKeyError\u001B[0m                                  Traceback (most recent call last)",
      "File \u001B[0;32m~/hakaton-gagarin-sentiment_interface/.venv/lib/python3.11/site-packages/pandas/core/indexes/base.py:3653\u001B[0m, in \u001B[0;36mIndex.get_loc\u001B[0;34m(self, key)\u001B[0m\n\u001B[1;32m   3652\u001B[0m \u001B[38;5;28;01mtry\u001B[39;00m:\n\u001B[0;32m-> 3653\u001B[0m     \u001B[38;5;28;01mreturn\u001B[39;00m \u001B[38;5;28;43mself\u001B[39;49m\u001B[38;5;241;43m.\u001B[39;49m\u001B[43m_engine\u001B[49m\u001B[38;5;241;43m.\u001B[39;49m\u001B[43mget_loc\u001B[49m\u001B[43m(\u001B[49m\u001B[43mcasted_key\u001B[49m\u001B[43m)\u001B[49m\n\u001B[1;32m   3654\u001B[0m \u001B[38;5;28;01mexcept\u001B[39;00m \u001B[38;5;167;01mKeyError\u001B[39;00m \u001B[38;5;28;01mas\u001B[39;00m err:\n",
      "File \u001B[0;32m~/hakaton-gagarin-sentiment_interface/.venv/lib/python3.11/site-packages/pandas/_libs/index.pyx:147\u001B[0m, in \u001B[0;36mpandas._libs.index.IndexEngine.get_loc\u001B[0;34m()\u001B[0m\n",
      "File \u001B[0;32m~/hakaton-gagarin-sentiment_interface/.venv/lib/python3.11/site-packages/pandas/_libs/index.pyx:176\u001B[0m, in \u001B[0;36mpandas._libs.index.IndexEngine.get_loc\u001B[0;34m()\u001B[0m\n",
      "File \u001B[0;32mpandas/_libs/hashtable_class_helper.pxi:7080\u001B[0m, in \u001B[0;36mpandas._libs.hashtable.PyObjectHashTable.get_item\u001B[0;34m()\u001B[0m\n",
      "File \u001B[0;32mpandas/_libs/hashtable_class_helper.pxi:7088\u001B[0m, in \u001B[0;36mpandas._libs.hashtable.PyObjectHashTable.get_item\u001B[0;34m()\u001B[0m\n",
      "\u001B[0;31mKeyError\u001B[0m: ('MergedColumn', 'issuerid')",
      "\nThe above exception was the direct cause of the following exception:\n",
      "\u001B[0;31mKeyError\u001B[0m                                  Traceback (most recent call last)",
      "Cell \u001B[0;32mIn[20], line 1\u001B[0m\n\u001B[0;32m----> 1\u001B[0m pd\u001B[38;5;241m.\u001B[39munique(\u001B[43mdf\u001B[49m\u001B[43m[\u001B[49m\u001B[38;5;124;43m\"\u001B[39;49m\u001B[38;5;124;43mMergedColumn\u001B[39;49m\u001B[38;5;124;43m\"\u001B[39;49m\u001B[43m,\u001B[49m\u001B[43m \u001B[49m\u001B[38;5;124;43m\"\u001B[39;49m\u001B[38;5;124;43missuerid\u001B[39;49m\u001B[38;5;124;43m\"\u001B[39;49m\u001B[43m]\u001B[49m)\n",
      "File \u001B[0;32m~/hakaton-gagarin-sentiment_interface/.venv/lib/python3.11/site-packages/pandas/core/frame.py:3761\u001B[0m, in \u001B[0;36mDataFrame.__getitem__\u001B[0;34m(self, key)\u001B[0m\n\u001B[1;32m   3759\u001B[0m \u001B[38;5;28;01mif\u001B[39;00m \u001B[38;5;28mself\u001B[39m\u001B[38;5;241m.\u001B[39mcolumns\u001B[38;5;241m.\u001B[39mnlevels \u001B[38;5;241m>\u001B[39m \u001B[38;5;241m1\u001B[39m:\n\u001B[1;32m   3760\u001B[0m     \u001B[38;5;28;01mreturn\u001B[39;00m \u001B[38;5;28mself\u001B[39m\u001B[38;5;241m.\u001B[39m_getitem_multilevel(key)\n\u001B[0;32m-> 3761\u001B[0m indexer \u001B[38;5;241m=\u001B[39m \u001B[38;5;28;43mself\u001B[39;49m\u001B[38;5;241;43m.\u001B[39;49m\u001B[43mcolumns\u001B[49m\u001B[38;5;241;43m.\u001B[39;49m\u001B[43mget_loc\u001B[49m\u001B[43m(\u001B[49m\u001B[43mkey\u001B[49m\u001B[43m)\u001B[49m\n\u001B[1;32m   3762\u001B[0m \u001B[38;5;28;01mif\u001B[39;00m is_integer(indexer):\n\u001B[1;32m   3763\u001B[0m     indexer \u001B[38;5;241m=\u001B[39m [indexer]\n",
      "File \u001B[0;32m~/hakaton-gagarin-sentiment_interface/.venv/lib/python3.11/site-packages/pandas/core/indexes/base.py:3655\u001B[0m, in \u001B[0;36mIndex.get_loc\u001B[0;34m(self, key)\u001B[0m\n\u001B[1;32m   3653\u001B[0m     \u001B[38;5;28;01mreturn\u001B[39;00m \u001B[38;5;28mself\u001B[39m\u001B[38;5;241m.\u001B[39m_engine\u001B[38;5;241m.\u001B[39mget_loc(casted_key)\n\u001B[1;32m   3654\u001B[0m \u001B[38;5;28;01mexcept\u001B[39;00m \u001B[38;5;167;01mKeyError\u001B[39;00m \u001B[38;5;28;01mas\u001B[39;00m err:\n\u001B[0;32m-> 3655\u001B[0m     \u001B[38;5;28;01mraise\u001B[39;00m \u001B[38;5;167;01mKeyError\u001B[39;00m(key) \u001B[38;5;28;01mfrom\u001B[39;00m \u001B[38;5;21;01merr\u001B[39;00m\n\u001B[1;32m   3656\u001B[0m \u001B[38;5;28;01mexcept\u001B[39;00m \u001B[38;5;167;01mTypeError\u001B[39;00m:\n\u001B[1;32m   3657\u001B[0m     \u001B[38;5;66;03m# If we have a listlike key, _check_indexing_error will raise\u001B[39;00m\n\u001B[1;32m   3658\u001B[0m     \u001B[38;5;66;03m#  InvalidIndexError. Otherwise we fall through and re-raise\u001B[39;00m\n\u001B[1;32m   3659\u001B[0m     \u001B[38;5;66;03m#  the TypeError.\u001B[39;00m\n\u001B[1;32m   3660\u001B[0m     \u001B[38;5;28mself\u001B[39m\u001B[38;5;241m.\u001B[39m_check_indexing_error(key)\n",
      "\u001B[0;31mKeyError\u001B[0m: ('MergedColumn', 'issuerid')"
     ]
    }
   ],
   "source": [
    "pd.unique(df[\"MergedColumn\", \"issuerid\"])"
   ],
   "metadata": {
    "collapsed": false,
    "ExecuteTime": {
     "end_time": "2024-04-13T07:53:33.241756Z",
     "start_time": "2024-04-13T07:53:33.205186Z"
    }
   },
   "id": "41cae7a69813145f",
   "execution_count": 20
  },
  {
   "cell_type": "code",
   "outputs": [
    {
     "data": {
      "text/plain": "     issuerid                                  EMITENT_FULL_NAME BGTicker  \\\n0           1  Акционерный коммерческий банк \"Держава\" публич...      NaN   \n1           2  \"МОСКОВСКИЙ КРЕДИТНЫЙ БАНК\" (публичное акционе...  CBOM RX   \n2           3  \"Российский акционерный коммерческий дорожный ...      NaN   \n3           4  Акционерная компания \"АЛРОСА\" (публичное акцио...  ALRS RX   \n4           5  Акционерный Коммерческий банк \"АВАНГАРД\" - пуб...      NaN   \n..        ...                                                ...      ...   \n250       270                                          Henderson      NaN   \n251       271                                         Совкомбанк      NaN   \n252       272                                          ЕвроТранс      NaN   \n253       273                                         Делимобиль      NaN   \n254       274                                            Диасофт      NaN   \n\n    BGTicker.1                                         Unnamed: 4  \\\n0        DERZP                                            Держава   \n1          NaN                          Московский кредитный банк   \n2         RDRB  Российский акционерный коммерческий дорожный банк   \n3          NaN                                             алроса   \n4         AVAN                                           Авангард   \n..         ...                                                ...   \n250       HNFG                                          Хендерсон   \n251       SVCB                                         Sovcombank   \n252       EUTR                                         АЗС Трасса   \n253       DELI                                          Делимобил   \n254       DIAS                                            Diasoft   \n\n        Unnamed: 5             Unnamed: 6  \\\n0         DERZHAVA                   DERZ   \n1              мкб  Credit Bank of Moscow   \n2           РДБанк          Дорожный банк   \n3           alrosa                    NaN   \n4         AVANGARD                    NaN   \n..             ...                    ...   \n250            NaN                    NaN   \n251            NaN                    NaN   \n252   АЗС \"Трасса\"           АЗС «Трасса»   \n253  Каршеринг Рус              delimobil   \n254            NaN                    NaN   \n\n                                           Unnamed: 7  \\\n0                                                 NaN   \n1                                         Credit Bank   \n2    Russian public joint-stock commercial roads Bank   \n3                                                 NaN   \n4                                                 NaN   \n..                                                ...   \n250                                               NaN   \n251                                               NaN   \n252                                               NaN   \n253                            ПАО \"Каршеринг Руссия\"   \n254                                               NaN   \n\n                  Unnamed: 8  Unnamed: 9 Unnamed: 10 Unnamed: 11 Unnamed: 12  \\\n0                        NaN         NaN         NaN         NaN         NaN   \n1                        NaN         NaN         NaN         NaN         NaN   \n2                 RosDorBank  РосДорБанк  roads Bank         NaN         NaN   \n3                        NaN         NaN         NaN         NaN         NaN   \n4                        NaN         NaN         NaN         NaN         NaN   \n..                       ...         ...         ...         ...         ...   \n250                      NaN         NaN         NaN         NaN         NaN   \n251                      NaN         NaN         NaN         NaN         NaN   \n252                      NaN         NaN         NaN         NaN         NaN   \n253  \"Каршеринг Руссия\", ПАО         NaN         NaN         NaN         NaN   \n254                      NaN         NaN         NaN         NaN         NaN   \n\n    Unnamed: 13  \n0           NaN  \n1           NaN  \n2           NaN  \n3           NaN  \n4           NaN  \n..          ...  \n250         NaN  \n251         NaN  \n252         NaN  \n253         NaN  \n254         NaN  \n\n[255 rows x 14 columns]",
      "text/html": "<div>\n<style scoped>\n    .dataframe tbody tr th:only-of-type {\n        vertical-align: middle;\n    }\n\n    .dataframe tbody tr th {\n        vertical-align: top;\n    }\n\n    .dataframe thead th {\n        text-align: right;\n    }\n</style>\n<table border=\"1\" class=\"dataframe\">\n  <thead>\n    <tr style=\"text-align: right;\">\n      <th></th>\n      <th>issuerid</th>\n      <th>EMITENT_FULL_NAME</th>\n      <th>BGTicker</th>\n      <th>BGTicker.1</th>\n      <th>Unnamed: 4</th>\n      <th>Unnamed: 5</th>\n      <th>Unnamed: 6</th>\n      <th>Unnamed: 7</th>\n      <th>Unnamed: 8</th>\n      <th>Unnamed: 9</th>\n      <th>Unnamed: 10</th>\n      <th>Unnamed: 11</th>\n      <th>Unnamed: 12</th>\n      <th>Unnamed: 13</th>\n    </tr>\n  </thead>\n  <tbody>\n    <tr>\n      <th>0</th>\n      <td>1</td>\n      <td>Акционерный коммерческий банк \"Держава\" публич...</td>\n      <td>NaN</td>\n      <td>DERZP</td>\n      <td>Держава</td>\n      <td>DERZHAVA</td>\n      <td>DERZ</td>\n      <td>NaN</td>\n      <td>NaN</td>\n      <td>NaN</td>\n      <td>NaN</td>\n      <td>NaN</td>\n      <td>NaN</td>\n      <td>NaN</td>\n    </tr>\n    <tr>\n      <th>1</th>\n      <td>2</td>\n      <td>\"МОСКОВСКИЙ КРЕДИТНЫЙ БАНК\" (публичное акционе...</td>\n      <td>CBOM RX</td>\n      <td>NaN</td>\n      <td>Московский кредитный банк</td>\n      <td>мкб</td>\n      <td>Credit Bank of Moscow</td>\n      <td>Credit Bank</td>\n      <td>NaN</td>\n      <td>NaN</td>\n      <td>NaN</td>\n      <td>NaN</td>\n      <td>NaN</td>\n      <td>NaN</td>\n    </tr>\n    <tr>\n      <th>2</th>\n      <td>3</td>\n      <td>\"Российский акционерный коммерческий дорожный ...</td>\n      <td>NaN</td>\n      <td>RDRB</td>\n      <td>Российский акционерный коммерческий дорожный банк</td>\n      <td>РДБанк</td>\n      <td>Дорожный банк</td>\n      <td>Russian public joint-stock commercial roads Bank</td>\n      <td>RosDorBank</td>\n      <td>РосДорБанк</td>\n      <td>roads Bank</td>\n      <td>NaN</td>\n      <td>NaN</td>\n      <td>NaN</td>\n    </tr>\n    <tr>\n      <th>3</th>\n      <td>4</td>\n      <td>Акционерная компания \"АЛРОСА\" (публичное акцио...</td>\n      <td>ALRS RX</td>\n      <td>NaN</td>\n      <td>алроса</td>\n      <td>alrosa</td>\n      <td>NaN</td>\n      <td>NaN</td>\n      <td>NaN</td>\n      <td>NaN</td>\n      <td>NaN</td>\n      <td>NaN</td>\n      <td>NaN</td>\n      <td>NaN</td>\n    </tr>\n    <tr>\n      <th>4</th>\n      <td>5</td>\n      <td>Акционерный Коммерческий банк \"АВАНГАРД\" - пуб...</td>\n      <td>NaN</td>\n      <td>AVAN</td>\n      <td>Авангард</td>\n      <td>AVANGARD</td>\n      <td>NaN</td>\n      <td>NaN</td>\n      <td>NaN</td>\n      <td>NaN</td>\n      <td>NaN</td>\n      <td>NaN</td>\n      <td>NaN</td>\n      <td>NaN</td>\n    </tr>\n    <tr>\n      <th>...</th>\n      <td>...</td>\n      <td>...</td>\n      <td>...</td>\n      <td>...</td>\n      <td>...</td>\n      <td>...</td>\n      <td>...</td>\n      <td>...</td>\n      <td>...</td>\n      <td>...</td>\n      <td>...</td>\n      <td>...</td>\n      <td>...</td>\n      <td>...</td>\n    </tr>\n    <tr>\n      <th>250</th>\n      <td>270</td>\n      <td>Henderson</td>\n      <td>NaN</td>\n      <td>HNFG</td>\n      <td>Хендерсон</td>\n      <td>NaN</td>\n      <td>NaN</td>\n      <td>NaN</td>\n      <td>NaN</td>\n      <td>NaN</td>\n      <td>NaN</td>\n      <td>NaN</td>\n      <td>NaN</td>\n      <td>NaN</td>\n    </tr>\n    <tr>\n      <th>251</th>\n      <td>271</td>\n      <td>Совкомбанк</td>\n      <td>NaN</td>\n      <td>SVCB</td>\n      <td>Sovcombank</td>\n      <td>NaN</td>\n      <td>NaN</td>\n      <td>NaN</td>\n      <td>NaN</td>\n      <td>NaN</td>\n      <td>NaN</td>\n      <td>NaN</td>\n      <td>NaN</td>\n      <td>NaN</td>\n    </tr>\n    <tr>\n      <th>252</th>\n      <td>272</td>\n      <td>ЕвроТранс</td>\n      <td>NaN</td>\n      <td>EUTR</td>\n      <td>АЗС Трасса</td>\n      <td>АЗС \"Трасса\"</td>\n      <td>АЗС «Трасса»</td>\n      <td>NaN</td>\n      <td>NaN</td>\n      <td>NaN</td>\n      <td>NaN</td>\n      <td>NaN</td>\n      <td>NaN</td>\n      <td>NaN</td>\n    </tr>\n    <tr>\n      <th>253</th>\n      <td>273</td>\n      <td>Делимобиль</td>\n      <td>NaN</td>\n      <td>DELI</td>\n      <td>Делимобил</td>\n      <td>Каршеринг Рус</td>\n      <td>delimobil</td>\n      <td>ПАО \"Каршеринг Руссия\"</td>\n      <td>\"Каршеринг Руссия\", ПАО</td>\n      <td>NaN</td>\n      <td>NaN</td>\n      <td>NaN</td>\n      <td>NaN</td>\n      <td>NaN</td>\n    </tr>\n    <tr>\n      <th>254</th>\n      <td>274</td>\n      <td>Диасофт</td>\n      <td>NaN</td>\n      <td>DIAS</td>\n      <td>Diasoft</td>\n      <td>NaN</td>\n      <td>NaN</td>\n      <td>NaN</td>\n      <td>NaN</td>\n      <td>NaN</td>\n      <td>NaN</td>\n      <td>NaN</td>\n      <td>NaN</td>\n      <td>NaN</td>\n    </tr>\n  </tbody>\n</table>\n<p>255 rows × 14 columns</p>\n</div>"
     },
     "execution_count": 48,
     "metadata": {},
     "output_type": "execute_result"
    }
   ],
   "source": [
    "import math\n",
    "names = pd.read_excel('../data/names.xlsx', na_values=[math.nan])\n",
    "names"
   ],
   "metadata": {
    "collapsed": false,
    "ExecuteTime": {
     "end_time": "2024-04-13T08:04:18.485945Z",
     "start_time": "2024-04-13T08:04:18.433834Z"
    }
   },
   "id": "9aefc275e74da308",
   "execution_count": 48
  },
  {
   "cell_type": "code",
   "outputs": [
    {
     "data": {
      "text/plain": "array([1,\n       'Акционерный коммерческий банк \"Держава\" публичное акционерное общество',\n       nan, 'DERZP', 'Держава', 'DERZHAVA', 'DERZ', nan, nan, nan, nan,\n       nan, nan, nan], dtype=object)"
     },
     "execution_count": 66,
     "metadata": {},
     "output_type": "execute_result"
    }
   ],
   "source": [
    "import numpy as np\n",
    "(names.iloc[0].to_numpy())"
   ],
   "metadata": {
    "collapsed": false,
    "ExecuteTime": {
     "end_time": "2024-04-13T08:12:27.495391Z",
     "start_time": "2024-04-13T08:12:27.476936Z"
    }
   },
   "id": "1b50af4636dd7aa6",
   "execution_count": 66
  },
  {
   "cell_type": "code",
   "outputs": [],
   "source": [
    "issuers = {}\n",
    "for i in range(len(names)):\n",
    "    row = names.iloc[i].to_numpy()\n",
    "    issuerId = row[0]\n",
    "    for name in range(2, len(row)):\n",
    "        if not pd.isna(row[name]):\n",
    "            issuers[(row[name]).lower().strip()] = int(issuerId)\n",
    "\n",
    "with open('../data/issuers.json', 'w') as file:\n",
    "    json.dump(issuers, file)\n"
   ],
   "metadata": {
    "collapsed": false,
    "ExecuteTime": {
     "end_time": "2024-04-13T08:20:53.336908Z",
     "start_time": "2024-04-13T08:20:53.329678Z"
    }
   },
   "id": "d332d359e20adaba",
   "execution_count": 76
  },
  {
   "cell_type": "code",
   "outputs": [
    {
     "name": "stdout",
     "output_type": "stream",
     "text": [
      "{'derzp': 1, 'держава': 1, 'derzhava': 1, 'derz': 1, 'cbom rx': 2, 'московский кредитный банк': 2, 'мкб': 2, 'credit bank of moscow': 2, 'credit bank': 2, 'rdrb': 3, 'российский акционерный коммерческий дорожный банк': 3, 'рдбанк': 3, 'дорожный банк': 3, 'russian public joint-stock commercial roads bank': 3, 'rosdorbank': 3, 'росдорбанк': 3, 'roads bank': 3, 'alrs rx': 4, 'алроса': 27, 'alrosa': 27, 'avan': 5, 'авангард': 5, 'avangard': 5, 'prmb': 6, 'акб приморье': 6, 'акб \"приморье\"': 6, 'банк \"приморье\"': 6, 'банк приморье': 6, 'primbank': 6, 'pjscb \"primorye\"': 6, 'pjscb primorye': 6, 'public joint-stock commercial bank \"primorye\"': 6, 'bank \"primorye\"': 6, 'bank primorye': 6, 'vtbr rx': 7, 'втб': 7, 'vtb': 7, 'irgz': 8, 'иркутскэнерго': 8, 'иркэнерго': 8, 'irkutskenergo': 8, 'kzos': 9, 'органический синтез': 9, 'казаньоргсинтез': 9, 'kazanorgsintez': 9, 'lnzl': 10, 'лензолото': 10, 'lenzoloto': 10, 'rual rx': 11, 'объединённая компания \"русал\"': 11, 'русал': 11, 'rusal': 11, 'enpg rx': 12, 'enpl': 12, 'эн+ груп': 12, 'en+ group': 12, 'en+ group plc': 12, 'blng': 13, 'белон': 13, 'belon': 13, 'dzrd': 14, 'донской завод радиодеталей': 14, 'дзрд': 14, 'lvhk': 15, 'левенгук': 15, 'levenhuk': 15, 'lpsb': 16, 'lpsbg': 16, 'липецкая энергосбытовая компания': 16, 'липецкая эск': 16, 'лэск': 16, 'lesk': 16, 'mrku': 17, 'межрегиональная распределительная сетевая компания урала': 17, 'мрск урала': 17, 'россети урал': 17, 'rosseti ural': 17, 'msst': 18, 'мультисистема': 18, 'multisistema': 18, 'npof': 19, 'научно-производственное объединение \"физика\"': 19, 'нпо \"физика\"': 19, 'нпо физика': 19, 'npofizika': 19, 'mgnz': 20, 'mgnzg': 20, 'соликамский магниевый завод': 20, 'оао \"смз\"': 20, 'оао смз': 20, 'aqua': 261, 'инаркт1р1': 21, 'инарктика': 261, 'русская аквакультура': 261, 'inarctica': 21, 'русское море': 261, 'abrd': 22, 'абрау – дюрсо': 22, 'abraudurso': 22, 'абрау дюрсо': 22, 'utar': 23, 'akrn rx': 24, 'акрон': 24, 'acron': 24, 'bane rx': 25, 'afks rx': 26, 'афк система': 26, 'система': 26, 'alnu rx': 27, 'aptk rx': 28, 'acko': 29, 'assb': 30, 'астраханская эсб': 30, 'amez': 31, 'aflt rx': 32, 'аэрофлот': 32, 'aeroflot': 32, 'bspb rx': 33, 'банк санкт-петербург': 33, 'бспб': 33, 'банк петербург': 33, 'спб банк': 33, 'usbn': 34, 'bisv': 35, 'belu rx': 36, 'белуга': 36, 'beluga': 36, 'albk': 37, 'brzl': 38, 'vjgz': 39, 'vlhz': 40, 'vgsb': 41, 'ogkb': 42, 'vsyd': 43, 'gaza': 44, 'группа \"газ\"': 44, 'группа газ': 44, 'пао газ': 44, 'пао \"газ\"': 44, 'gazc': 45, 'газкон': 45, 'газкон-ао': 45, 'rtgz': 46, 'пао \"газпром газораспределение ростов-на-дону\"': 46, 'rostovoblgaz': 46, 'газпром рнд': 46, 'ростовоблгаз': 46, 'sibn rx': 47, 'пао \"газпром нефть\"': 47, 'газпром нефть': 47, 'gazprom neft': 47, 'gazp rx': 48, 'пао \"газпром\"': 48, 'газпром': 48, 'gazprom': 48, 'gazp': 48, 'gazs': 49, 'пао \"газ-сервис\"': 49, 'gas-service': 49, 'gazt': 50, 'газ-тэк': 50, 'gaz-tec': 50, 'gtss': 51, 'геотек': 51, 'gseis': 51, 'пао «геотек сейсморазведка»': 51, 'gtrk': 52, 'глобалтрак': 52, 'globaltruck': 52, 'gmkn rx': 53, 'норникель': 53, 'пао \"горно-металлургическая компания \"норильский никель\"': 53, 'пао \"гмк \"норильский никель\"': 53, 'nornickel': 53, 'норильский никель': 53, 'grnt': 54, 'пао «городские инновационные технологии': 54, 'пао \"гит\"': 54, 'городские инновационные технологии': 54, 'гит': 54, 'rlmn': 55, 'роллман': 55, 'rollman': 55, 'smlt rx': 56, 'самолет': 56, 'samolet': 56, 'группа самолет': 56, 'lsrg rx': 57, 'лср': 57, 'gche rx': 58, 'черкизово': 58, 'cherkizovo': 58, 'dasb': 59, 'дагсб': 59, 'дагестанэнергосбыт': 59, 'dagestanskaya energosbytovaya': 59, 'dvec': 60, 'дэк': 60, 'дальневосточная энергетическая компания': 60, 'fesh': 61, 'двмп': 61, 'fesco': 61, 'дальневосточное морское пароходство': 61, 'dsky rx': 62, 'детский мир': 62, 'detsky mir': 62, 'детмир': 62, 'gtlc': 63, 'джитиэл': 63, 'gtl': 63, 'eelt': 64, 'европейская электротехника': 64, 'yevropyeyskaya elyektrotyekhnika': 64, 'zill': 65, 'завод имени и.а. лихачева': 65, 'зил': 65, 'zil': 65, 'завод имени лихачёва': 65, 'zvez': 66, 'звезда': 66, 'zvezda': 66, 'igst': 67, 'ижсталь': 67, 'ижевский металлургический завод': 67, \"izhstal'\": 67, 'idvp': 68, 'инвест-девелопмент': 68, 'invest-development': 68, 'rusi': 69, 'руссинвест': 69, 'ик русс-инвест': 69, 'russ-invest': 69, 'русс-инвест': 69, 'russinvest': 69, 'русс-инвест ик': 69, 'ingr rx': 70, 'opin': 70, 'инград': 70, 'ingrad': 70, 'ingr': 70, 'инград (пао)': 70, 'пао инград': 70, 'iskj': 71, 'искч': 71, 'институт стволовых клеток человека': 71, 'irao rx': 72, 'интер рао': 72, 'inter rao': 72, 'интер рао еэс финанс': 72, 'klsb': 73, 'кск': 82, 'клсб': 73, 'калужская сбытовая компания': 73, 'калужская сбыткомп': 73, 'kalujskaya sbytovaya': 73, 'kmaz rx': 74, 'камаз': 74, 'kamaz': 74, 'kunf': 75, 'кузоцм': 75, 'kuzocm': 75, 'tgkd': 76, 'ао квадра': 76, 'quadra': 76, 'квадра': 76, 'пао квадра': 76, 'kmez': 77, 'пао кмз': 81, 'ковровский мехзд': 77, 'ковровский механический завод': 77, 'kvmz': 77, 'ksgr': 78, 'пао кокс': 78, 'кокс': 78, 'koks': 78, 'vsmo': 79, 'корпорация всмпо-ависма': 79, 'всмпо-ависма': 79, 'vsmpo-avisma corporation': 79, 'vsmpo-avisma': 79, 'всмпо-авсм': 79, 'всмпо': 79, 'kogk': 80, 'коршуновский гок': 80, 'korshunov mining plant': 80, 'korgok': 80, 'kmtz': 81, 'косогорский металлургический завод': 81, 'kgiw': 81, 'ktsb': 82, 'костромская сбытовая компания': 82, 'kostromskaya sbytovaya kompaniya': 82, 'ksk': 82, 'kzms': 83, 'кзмс': 83, 'краснокамский завод металлических сеток': 83, 'россет': 83, 'rosset': 83, 'krsb': 84, 'красноярскэнергосбыт': 84, 'krsk-sbit': 84, 'kbtk': 85, 'кузбасская топливная компания': 85, 'ктк': 85, 'ktk': 85, 'пао ктк': 85, 'kazt': 86, 'куйбышевазот': 86, 'kuazot': 86, 'куйбазот': 86, 'kgkc': 87, 'курганская генерирующая компания': 87, 'курганская гк': 87, 'кгк': 87, 'пао кгк': 87, 'kgk': 87, 'kurgancskaya generiruyushaya': 87, 'mvid rx': 88, 'мвидео': 88, 'mvideo': 88, 'mgnt rx': 89, 'магнит': 89, 'magnit': 89, 'mgnt': 89, 'пао магнит': 89, 'магнит пао': 89, 'magn rx': 90, 'ммк': 90, 'magnitigorskiy metallurgicheskiy': 90, 'магнитогорский металлургический комбинат': 90, 'магнитка': 90, 'mfon rx': 91, 'мегафон': 91, 'megafon': 91, 'пао мегафон': 91, 'мегафон пао': 91, 'odva': 92, 'gema': 93, 'mrkz': 94, 'mrkp': 95, 'mrkc': 96, 'merf': 97, 'mtkb': 98, 'mtlr rx': 99, 'мечел': 99, 'mechel': 99, 'mtlrp': 99, 'mtss rx': 100, 'mtc': 100, 'мтс': 100, 'mrsb': 101, 'mori': 102, 'moex rx': 103, 'мосбиржа': 103, 'московская биржа': 103, 'mgts rx': 104, 'krot': 105, 'krotp': 105, 'mstt': 106, 'мостотрест': 106, 'nsvz': 107, 'наука-связь': 107, 'irkt rx': 108, 'uwgn rx': 109, 'объединенная вагонная компания': 109, 'nfaz': 110, 'нефаз': 110, 'нефтекамский автозавод': 110, 'lkoh rx': 111, 'лукойл': 111, 'rosn rx': 112, 'роснефть': 112, 'rosneft': 112, 'nkncp': 113, 'nknc': 113, 'нижнекамскнефтехим': 113, 'nkshp': 114, 'nksh': 114, 'нижнекамскшина': 114, 'nvtk rx': 115, 'новатэк': 115, 'novatek': 115, 'nlmk rx': 116, 'нлмк': 116, 'nkhp': 117, 'новороссийский комбинат хлебопродуктов': 117, 'нкхп': 117, 'nmtp': 118, 'нмтп': 118, 'новороссийский морской порт': 118, 'новороссийский морской торговый порт': 118, 'nompp': 119, 'новошип': 119, 'новороссийское морское пароходство': 119, 'unac rx': 120, 'пао оак': 120, 'пао \"оак\"': 120, 'объединенная авиастроительная корпорация': 120, 'ucss': 121, 'кредитные системы': 121, 'объединенные кредитные системы': 121, 'satr': 122, 'сатурн': 122, 'одк сатурн': 122, 'одк-сатурн': 122, 'одк_сатурн': 122, 'orup': 123, 'ор групп': 123, 'пао ор': 123, 'paza': 124, 'павловский автобус': 124, 'павл автобус': 124, 'павлбус': 124, 'pmsbp': 125, 'pmsb': 125, 'пермэнергосбыт': 125, 'пермская энергосбытовая компания': 125, 'pikk rx': 126, 'пик сз': 126, 'plzl rx': 127, 'полюс': 127, 'rkke': 128, 'энергия': 128, 'ркк энергия': 128, 'ркк «энергия»': 128, 'rasp rx': 129, 'пао «распадская»': 129, 'распадская': 129, 'rbcm': 130, 'росбизнесконсалтинг': 130, 'гк «росбизнесконсалтинг»': 130, 'рос бизнес консалтинг': 130, 'chgz': 131, 'рн-западная сибирь': 131, 'rgsc': 132, 'росгосстрах банк': 132, 'банк росгосстрах': 132, 'ргс банк': 132, 'росгосстрах': 132, 'rost': 133, 'росинтер ресторантс холдинг': 133, 'росинтер': 133, 'rosinter': 133, 'mrkv': 134, 'россети волга': 134, 'kube': 135, 'россети кубань': 135, 'lsng': 136, 'россети ленэнерго': 136, 'msrs': 137, 'россети московский регион': 137, 'mrkk': 138, 'россети северный кавказ': 138, 'mrks': 139, 'россети сибирь': 139, 'mrky': 140, 'rsti rx': 141, 'российские сети': 141, 'rtkm rx': 142, 'ростелеком': 142, 'rugr': 143, 'rolo': 144, 'rusp': 145, 'rzsb': 146, 'krkn': 147, 'krknp': 147, 'sarep': 148, 'sare': 148, 'саратовэнерго': 148, 'sfin rx': 149, 'sber rx': 150, 'sberbank': 150, 'sber': 150, 'сбербанк': 150, 'сбер': 150, 'svet': 151, 'светофор групп': 151, 'группа светофор': 151, 'chmf rx': 152, 'северсталь': 152, 'selg': 153, 'селигдар': 153, 'sibg': 154, 'mfgs': 155, 'jnos': 156, 'jnosp': 156, 'flot rx': 157, 'совкомфлот': 157, 'svav rx': 158, 'соллерс': 158, 'sollers': 158, 'северсталь-авто': 158, 'stsb': 159, 'sngs rx': 160, 'сургутнефтегаз': 160, 'krkop': 161, 'ткз красный котельщик': 161, 'ткз \"красный котельщик\"': 161, 'красный котельщик': 161, 'pjsc krasny kotelshchik': 161, 'krasny kotelshchik': 161, 'tasbp': 162, 'тамбовэнергосбыт': 162, 'тамбовская энергосбытовая компания': 162, 'tasb': 162, 'tatn rx': 163, 'татнефть': 163, 'tatneft': 163, 'ttlk': 164, 'таттелеком': 164, 'tattelecom': 164, 'tgkn': 165, 'тгк-14': 165, 'tgc-14': 165, 'tgk-14': 165, 'tgka': 166, 'тгк-1': 166, 'tgc-1': 166, 'tgk-1': 166, 'tgkb': 167, 'тгк-2': 167, 'tgc-2': 167, 'tgk-2': 167, 'vrsb': 168, 'тнс энерго воронеж': 168, 'vrsbp': 168, 'kbsb': 169, 'тнс энерго кубань': 169, 'kbsbp': 169, 'misb': 170, 'тнс энерго марий эл': 170, 'misbp': 170, 'nnsb': 171, 'тнс энерго нижний новгород': 171, 'тнс энерго нижний новг': 171, 'nnsbp': 171, 'rtsb': 172, 'тнс энерго ростов-на-дону': 172, 'тнс энерго ростов': 172, 'rtsbp': 172, 'yrsb': 173, 'тнс энерго ярославль': 173, 'yrsbp': 173, 'tors': 174, 'томская распределительная компания': 174, 'россети томск': 174, 'трк': 174, 'trnfp rx': 175, 'транснефть': 175, 'transneft': 175, 'trfm': 176, 'трансфин': 176, 'transfin': 176, 'trmk rx': 177, 'тмк': 177, 'oao tmk': 177, 'tmk': 177, 'трубная металлургическая компания': 177, 'tuza': 178, 'пао «тза»': 178, 'пао тза': 178, 'тза': 178, 'туймазинский завод автобетоновозов': 178, 'не tza -- есть американский тикер': 178, 'tuch': 179, 'тучковский ксм': 179, 'тксм': 179, 'ukuz': 180, 'пао «южный кузбасс»': 180, 'пао южный кузбасс': 180, 'southern kuzbass coal company': 180, 'южный кузбасс': 180, 'arsa': 181, 'арсагера': 181, 'arsagera(не встречал упоминаний)': 181, 'urka rx': 182, 'uralkali': 182, 'уралкалий': 182, 'urka': 182, 'urkz': 183, 'уральская кузница': 183, 'urals stampings plant': 183, 'life': 184, 'фармсинтез': 184, 'pharmsynthez': 184, 'фарм-синтез': 184, 'пао фармсинтез': 184, 'hydr rx': 185, 'русгидро': 185, 'rushydro': 185, 'пао русгидро': 185, 'fees rx': 186, 'россети фск еэс': 186, 'ao fgc ues': 186, 'пао россети': 186, 'пао фск еэс': 186, 'фск еэс': 186, 'phor rx': 187, 'фосагро': 187, 'phosagro': 187, 'himcp rx': 188, 'химпром': 188, 'himprom': 188, 'пао химпром': 188, 'wtcm rx': 189, 'цмт': 189, 'wtc': 189, 'центр международной торговли': 189, 'world trade center': 189, 'trcn rx': 190, 'трансконтейнер': 190, 'transcontainer': 190, 'пао трансконейнер': 190, 'cntl rx': 191, 'центральный телеграф': 191, 'central telegraph': 191, 'пао центральный телеграф': 191, 'prfn rx': 192, 'чзпсн-профнастил': 192, 'пао чзпсн-профнастил': 192, 'челябинский завод профилированного стального настила': 192, 'ckpz rx': 193, 'чкпз': 193, 'oao chelyabinsk forge-and-press plant': 193, 'пао челябинский кузнечно-прессовый завод': 193, 'chmk rx': 194, 'чмк': 194, 'chelyabinsk metallurgical plant': 194, 'пао чмк': 194, 'челябинский металлургический комбинат': 194, 'chmk': 194, 'chep rx': 195, 'чтпз': 195, 'chelyabinsk pipe rolling plant': 195, 'пао чтпз': 195, 'челябинский трубопрокатный завод': 195, 'eltz rx': 196, 'электроцинк': 196, 'electrozink': 196, 'пао электроцинк': 196, 'enru rx': 197, 'энел россия': 197, 'enel russia': 197, 'пао энел россия': 197, 'elfv': 197, 'unkl rx': 198, 'южуралникель': 198, 'unickel': 198, 'комбинат южуралникель': 198, 'пао комбинат южуралникель': 198, 'upro rx': 199, 'юнипро': 199, 'unipro': 199, 'пао юнипро': 199, 'yakg rx': 200, 'ятэк': 200, 'yatec': 200, 'якутская топливно-энергетическая компания': 200, 'пао якутская топливно-энергетическая компания': 200, 'yken rx': 201, 'якутскэнерго': 201, 'yakutskenergo': 201, 'пао якутскэнерго': 201, 'vzrz rx': 202, 'банк возрождение': 202, 'vozrozhdenie bank': 202, 'пао банк возрождение': 202, 'kuzb rx': 203, 'банк кузнецкий': 203, 'kuzbank': 203, 'пао банк кузнецкий': 203, 'sgzh rx': 204, 'сегежа': 204, 'segezha': 204, 'сегежа групп': 204, 'segezha group': 204, 'tnse rx': 205, 'тнс энерго': 205, 'tns energo': 205, 'пао гк тнс энерго': 205, 'diod rx': 206, 'диод': 206, 'diod plant of ecological technics and ecomeals': 206, 'пао диод': 206, 'завод экологической техники и экопитания диод': 206, 'mobb': 207, 'nauk': 208, 'rnft': 209, 'omzzp': 210, 'omzz': 210, 'rosb': 211, 'rgss': 212, 'kchep': 213, 'kche': 213, 'magep': 214, 'mage': 214, 'msng': 215, 'мосэнерго': 215, 'московская\\xa0энергетическая компания': 215, 'sago': 216, 'самарэнерго': 216, 'slen': 217, 'сахалинэнерго': 217, 'etln li': 218, 'эталон груп': 218, 'группа эталон': 218, 'fixp rx': 219, 'fix price': 219, 'fixprice': 219, 'gltr li': 220, 'globaltrans': 220, 'глобалтранс': 220, 'hhru rx': 221, 'headhunter': 221, 'hmsg': 222, 'mail li': 223, 'vkco': 223, 'вконтакте': 223, 'вк': 223, 'vk group': 223, 'mdmg rx': 224, 'md medical': 224, 'tcs li': 225, 'tcsg': 225, 'tcs group': 225, 'tinkoff': 225, 'тинькофф': 225, 'okey rx': 226, 'five li': 227, 'х5 групп': 227, 'x5 group': 227, 'qiwi rx': 228, 'ао киви': 228, 'lnta': 229, 'lent': 229, 'ozon rx': 230, 'agro rx': 231, 'русагро': 231, 'rusagro': 231, 'rtsd': 232, 'nord': 233, 'nordgold': 233, 'pogr': 234, 'petropavl': 234, '\"петропавловск\"': 234, 'poly rx': 235, 'polymetal': 235, 'полиметалл': 235, 'yndx rx': 236, 'яндекс': 236, 'yandex': 236, 'sftl': 237, 'softline': 237, 'софтлайн': 237, 'noventiq': 237, 'veon': 240, 'веон': 240, 'posi': 241, 'positive tech': 241, 'группа позитив': 241, 'гр. позитив': 241, 'positive group': 241, 'cian': 251, 'циан': 251, 'wush': 254, 'whoosh': 254, 'вуш': 254, 'spbe': 255, 'спб биржа': 255, 'glpr': 257, 'globalports': 257, 'глобалпортс': 257, 'reni': 267, 'ренессанс страхование': 267, 'astr': 258, 'гк астра': 258, 'группа астра': 258, 'astra': 258, 'астра': 258, 'аквакультура': 261, 'ugld': 265, 'югк': 265, 'abio': 266, 'артген биотех': 266, 'артген': 266, 'iартген': 266, 'geco': 268, 'genetico': 268, 'iгенетико': 268, 'carm': 269, 'смарттехгрупп': 269, 'пао \"стг\"': 269, 'hnfg': 270, 'хендерсон': 270, 'svcb': 271, 'sovcombank': 271, 'eutr': 272, 'азс трасса': 272, 'азс \"трасса\"': 272, 'азс «трасса»': 272, 'deli': 273, 'делимобил': 273, 'каршеринг рус': 273, 'delimobil': 273, 'пао \"каршеринг руссия\"': 273, '\"каршеринг руссия\", пао': 273, 'dias': 274, 'diasoft': 274}\n"
     ]
    }
   ],
   "source": [
    "with open('../data/issuers.json') as f:\n",
    "    templates = json.load(f)\n",
    "\n",
    "print(templates)"
   ],
   "metadata": {
    "collapsed": false,
    "ExecuteTime": {
     "end_time": "2024-04-13T08:20:53.728671Z",
     "start_time": "2024-04-13T08:20:53.723169Z"
    }
   },
   "id": "f780dba007c7991f",
   "execution_count": 77
  },
  {
   "cell_type": "code",
   "outputs": [],
   "source": [],
   "metadata": {
    "collapsed": false
   },
   "id": "c9bf2c58d0d0e5f"
  }
 ],
 "metadata": {
  "kernelspec": {
   "display_name": "Python 3",
   "language": "python",
   "name": "python3"
  },
  "language_info": {
   "codemirror_mode": {
    "name": "ipython",
    "version": 2
   },
   "file_extension": ".py",
   "mimetype": "text/x-python",
   "name": "python",
   "nbconvert_exporter": "python",
   "pygments_lexer": "ipython2",
   "version": "2.7.6"
  }
 },
 "nbformat": 4,
 "nbformat_minor": 5
}
